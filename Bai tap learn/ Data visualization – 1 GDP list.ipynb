{
 "cells": [
  {
   "cell_type": "code",
   "execution_count": 3,
   "id": "10b9d3c0",
   "metadata": {},
   "outputs": [],
   "source": [
    "import pandas as pd\n",
    "import matplotlib.pyplot as plt"
   ]
  },
  {
   "cell_type": "code",
   "execution_count": 6,
   "id": "408e76bb",
   "metadata": {},
   "outputs": [],
   "source": [
    "df = pd.read_csv(r\"E:\\Gymcode\\DA\\DAP2304R1\\Data\\GDPlist.csv\",encoding=\"ISO-8859-1\")"
   ]
  },
  {
   "cell_type": "code",
   "execution_count": 31,
   "id": "13b60661",
   "metadata": {
    "scrolled": true
   },
   "outputs": [
    {
     "data": {
      "text/html": [
       "<div>\n",
       "<style scoped>\n",
       "    .dataframe tbody tr th:only-of-type {\n",
       "        vertical-align: middle;\n",
       "    }\n",
       "\n",
       "    .dataframe tbody tr th {\n",
       "        vertical-align: top;\n",
       "    }\n",
       "\n",
       "    .dataframe thead th {\n",
       "        text-align: right;\n",
       "    }\n",
       "</style>\n",
       "<table border=\"1\" class=\"dataframe\">\n",
       "  <thead>\n",
       "    <tr style=\"text-align: right;\">\n",
       "      <th></th>\n",
       "      <th>Country</th>\n",
       "      <th>Continent</th>\n",
       "      <th>GDP (millions of US$)</th>\n",
       "    </tr>\n",
       "  </thead>\n",
       "  <tbody>\n",
       "    <tr>\n",
       "      <th>0</th>\n",
       "      <td>Afghanistan</td>\n",
       "      <td>Asia</td>\n",
       "      <td>18181</td>\n",
       "    </tr>\n",
       "    <tr>\n",
       "      <th>1</th>\n",
       "      <td>Albania</td>\n",
       "      <td>Europe</td>\n",
       "      <td>12847</td>\n",
       "    </tr>\n",
       "    <tr>\n",
       "      <th>2</th>\n",
       "      <td>Algeria</td>\n",
       "      <td>Africa</td>\n",
       "      <td>190709</td>\n",
       "    </tr>\n",
       "    <tr>\n",
       "      <th>3</th>\n",
       "      <td>Angola</td>\n",
       "      <td>Africa</td>\n",
       "      <td>100948</td>\n",
       "    </tr>\n",
       "    <tr>\n",
       "      <th>4</th>\n",
       "      <td>Argentina</td>\n",
       "      <td>South America</td>\n",
       "      <td>447644</td>\n",
       "    </tr>\n",
       "  </tbody>\n",
       "</table>\n",
       "</div>"
      ],
      "text/plain": [
       "        Country      Continent  GDP (millions of US$)\n",
       "0   Afghanistan           Asia                  18181\n",
       "1       Albania         Europe                  12847\n",
       "2       Algeria         Africa                 190709\n",
       "3        Angola         Africa                 100948\n",
       "4     Argentina  South America                 447644"
      ]
     },
     "execution_count": 31,
     "metadata": {},
     "output_type": "execute_result"
    }
   ],
   "source": [
    "df.head()"
   ]
  },
  {
   "cell_type": "code",
   "execution_count": 33,
   "id": "06657040",
   "metadata": {},
   "outputs": [
    {
     "data": {
      "text/plain": [
       "array(['\\xa0Afghanistan', '\\xa0Albania', '\\xa0Algeria', '\\xa0Angola',\n",
       "       '\\xa0Argentina', '\\xa0Australia', '\\xa0Austria', '\\xa0Azerbaijan',\n",
       "       '\\xa0Bahrain', '\\xa0Bangladesh', '\\xa0Belarus', '\\xa0Belgium',\n",
       "       '\\xa0Bolivia', '\\xa0Bosnia and Herzegovina', '\\xa0Botswana',\n",
       "       '\\xa0Brazil', '\\xa0Brunei', '\\xa0Bulgaria', '\\xa0Burma',\n",
       "       '\\xa0Cambodia', '\\xa0Cameroon', '\\xa0Canada', '\\xa0Chile',\n",
       "       '\\xa0China', '\\xa0Colombia',\n",
       "       '\\xa0Congo, Democratic Republic of the',\n",
       "       '\\xa0Congo, Republic of the', '\\xa0Costa Rica',\n",
       "       \"\\xa0Côte d'Ivoire\", '\\xa0Croatia', '\\xa0Cyprus',\n",
       "       '\\xa0Czech Republic', '\\xa0Denmark', '\\xa0Dominican Republic',\n",
       "       '\\xa0Ecuador', '\\xa0Egypt', '\\xa0El Salvador',\n",
       "       '\\xa0Equatorial Guinea', '\\xa0Estonia', '\\xa0Ethiopia',\n",
       "       '\\xa0Finland', '\\xa0France', '\\xa0Gabon', '\\xa0Georgia',\n",
       "       '\\xa0Germany', '\\xa0Ghana', '\\xa0Greece', '\\xa0Guatemala',\n",
       "       '\\xa0Honduras', '\\xa0Hong Kong', '\\xa0Hungary', '\\xa0Iceland',\n",
       "       '\\xa0India', '\\xa0Indonesia', '\\xa0Iran', '\\xa0Iraq',\n",
       "       '\\xa0Ireland', '\\xa0Israel', '\\xa0Italy', '\\xa0Jamaica',\n",
       "       '\\xa0Japan', '\\xa0Jordan', '\\xa0Kazakhstan', '\\xa0Kenya',\n",
       "       '\\xa0Kuwait', '\\xa0Latvia', '\\xa0Lebanon', '\\xa0Libya',\n",
       "       '\\xa0Lithuania', '\\xa0Luxembourg', '\\xa0Malaysia', '\\xa0Mali',\n",
       "       '\\xa0Mauritius', '\\xa0Mexico', '\\xa0Morocco', '\\xa0Mozambique',\n",
       "       '\\xa0Namibia', '\\xa0Nepal', '\\xa0Netherlands', '\\xa0New Zealand',\n",
       "       '\\xa0Nigeria', '\\xa0Norway', '\\xa0Oman', '\\xa0Pakistan',\n",
       "       '\\xa0Panama', '\\xa0Papua New Guinea', '\\xa0Paraguay', '\\xa0Peru',\n",
       "       '\\xa0Philippines', '\\xa0Poland', '\\xa0Portugal', '\\xa0Qatar',\n",
       "       '\\xa0Romania', '\\xa0Russia', '\\xa0Saudi Arabia', '\\xa0Senegal',\n",
       "       '\\xa0Serbia', '\\xa0Singapore', '\\xa0Slovakia', '\\xa0Slovenia',\n",
       "       '\\xa0South Africa', '\\xa0South Korea', '\\xa0Spain',\n",
       "       '\\xa0Sri Lanka', '\\xa0Sudan + \\xa0South Sudan', '\\xa0Sweden',\n",
       "       '\\xa0Switzerland', '\\xa0Taiwan', '\\xa0Tanzania', '\\xa0Thailand',\n",
       "       '\\xa0Trinidad and Tobago', '\\xa0Tunisia', '\\xa0Turkey',\n",
       "       '\\xa0Turkmenistan', '\\xa0Uganda', '\\xa0Ukraine',\n",
       "       '\\xa0United Arab Emirates', '\\xa0United Kingdom',\n",
       "       '\\xa0United States', '\\xa0Uruguay', '\\xa0Uzbekistan',\n",
       "       '\\xa0Venezuela', '\\xa0Vietnam', '\\xa0Yemen', '\\xa0Zambia'],\n",
       "      dtype=object)"
      ]
     },
     "execution_count": 33,
     "metadata": {},
     "output_type": "execute_result"
    }
   ],
   "source": [
    "df['Country'].unique()"
   ]
  },
  {
   "cell_type": "code",
   "execution_count": 9,
   "id": "f9b33c66",
   "metadata": {},
   "outputs": [
    {
     "name": "stdout",
     "output_type": "stream",
     "text": [
      "<class 'pandas.core.frame.DataFrame'>\n",
      "RangeIndex: 125 entries, 0 to 124\n",
      "Data columns (total 3 columns):\n",
      " #   Column                 Non-Null Count  Dtype \n",
      "---  ------                 --------------  ----- \n",
      " 0   Country                125 non-null    object\n",
      " 1   Continent              125 non-null    object\n",
      " 2   GDP (millions of US$)  125 non-null    int64 \n",
      "dtypes: int64(1), object(2)\n",
      "memory usage: 3.1+ KB\n"
     ]
    }
   ],
   "source": [
    "df.info()"
   ]
  },
  {
   "cell_type": "code",
   "execution_count": 11,
   "id": "23b81e0c",
   "metadata": {},
   "outputs": [],
   "source": [
    "#So sánh GDP các nước ở South America.\n",
    "df1 = df[df['Continent']=='South America']"
   ]
  },
  {
   "cell_type": "code",
   "execution_count": 15,
   "id": "b071535c",
   "metadata": {},
   "outputs": [
    {
     "data": {
      "image/png": "[encoded data removed]",
      "text/plain": [
       "<Figure size 640x480 with 1 Axes>"
      ]
     },
     "metadata": {},
     "output_type": "display_data"
    }
   ],
   "source": [
    "plt.bar(df1['Country'], df1['GDP (millions of US$)'])\n",
    "plt.show()"
   ]
  },
  {
   "cell_type": "code",
   "execution_count": null,
   "id": "355f770e",
   "metadata": {},
   "outputs": [],
   "source": [
    "'''\n",
    "Đánh giá tỉ lệ đóng góp GDP của Việt Nam trên tổng số GDP của 5 nước Đông Nam Á là \n",
    "Vietnam,  Indonesia, Cambodia, Thailand và Malaysia\n",
    "'''"
   ]
  },
  {
   "cell_type": "code",
   "execution_count": 39,
   "id": "1a01ca5f",
   "metadata": {},
   "outputs": [],
   "source": [
    "#So sánh GDP các nước ở South America.\n",
    "countries_of_interest = ['\\xa0Vietnam', '\\xa0Indonesia', '\\xa0Cambodia','\\xa0Thailand','\\xa0Malaysia']\n",
    "df2 = df[df['Country'].isin(countries_of_interest)]"
   ]
  },
  {
   "cell_type": "code",
   "execution_count": 40,
   "id": "3e66ff8b",
   "metadata": {
    "scrolled": false
   },
   "outputs": [
    {
     "data": {
      "text/html": [
       "<div>\n",
       "<style scoped>\n",
       "    .dataframe tbody tr th:only-of-type {\n",
       "        vertical-align: middle;\n",
       "    }\n",
       "\n",
       "    .dataframe tbody tr th {\n",
       "        vertical-align: top;\n",
       "    }\n",
       "\n",
       "    .dataframe thead th {\n",
       "        text-align: right;\n",
       "    }\n",
       "</style>\n",
       "<table border=\"1\" class=\"dataframe\">\n",
       "  <thead>\n",
       "    <tr style=\"text-align: right;\">\n",
       "      <th></th>\n",
       "      <th>Country</th>\n",
       "      <th>Continent</th>\n",
       "      <th>GDP (millions of US$)</th>\n",
       "    </tr>\n",
       "  </thead>\n",
       "  <tbody>\n",
       "    <tr>\n",
       "      <th>19</th>\n",
       "      <td>Cambodia</td>\n",
       "      <td>Asia</td>\n",
       "      <td>12861</td>\n",
       "    </tr>\n",
       "    <tr>\n",
       "      <th>53</th>\n",
       "      <td>Indonesia</td>\n",
       "      <td>Asia</td>\n",
       "      <td>845680</td>\n",
       "    </tr>\n",
       "    <tr>\n",
       "      <th>70</th>\n",
       "      <td>Malaysia</td>\n",
       "      <td>Asia</td>\n",
       "      <td>278680</td>\n",
       "    </tr>\n",
       "    <tr>\n",
       "      <th>109</th>\n",
       "      <td>Thailand</td>\n",
       "      <td>Asia</td>\n",
       "      <td>345649</td>\n",
       "    </tr>\n",
       "    <tr>\n",
       "      <th>122</th>\n",
       "      <td>Vietnam</td>\n",
       "      <td>Asia</td>\n",
       "      <td>122722</td>\n",
       "    </tr>\n",
       "  </tbody>\n",
       "</table>\n",
       "</div>"
      ],
      "text/plain": [
       "        Country Continent  GDP (millions of US$)\n",
       "19     Cambodia      Asia                  12861\n",
       "53    Indonesia      Asia                 845680\n",
       "70     Malaysia      Asia                 278680\n",
       "109    Thailand      Asia                 345649\n",
       "122     Vietnam      Asia                 122722"
      ]
     },
     "execution_count": 40,
     "metadata": {},
     "output_type": "execute_result"
    }
   ],
   "source": [
    "df2.head()"
   ]
  },
  {
   "cell_type": "code",
   "execution_count": 41,
   "id": "3d3ef8b9",
   "metadata": {
    "scrolled": false
   },
   "outputs": [
    {
     "data": {
      "image/png": "[encoded data removed]",
      "text/plain": [
       "<Figure size 640x480 with 1 Axes>"
      ]
     },
     "metadata": {},
     "output_type": "display_data"
    }
   ],
   "source": [
    "plt.pie(df2['GDP (millions of US$)'],labels=df2['Country'], autopct='%1.1f%%')\n",
    "plt.show()"
   ]
  }
 ],
 "metadata": {
  "kernelspec": {
   "display_name": "Python 3 (ipykernel)",
   "language": "python",
   "name": "python3"
  },
  "language_info": {
   "codemirror_mode": {
    "name": "ipython",
    "version": 3
   },
   "file_extension": ".py",
   "mimetype": "text/x-python",
   "name": "python",
   "nbconvert_exporter": "python",
   "pygments_lexer": "ipython3",
   "version": "3.10.6"
  },
  "varInspector": {
   "cols": {
    "lenName": 16,
    "lenType": 16,
    "lenVar": 40
   },
   "kernels_config": {
    "python": {
     "delete_cmd_postfix": "",
     "delete_cmd_prefix": "del ",
     "library": "var_list.py",
     "varRefreshCmd": "print(var_dic_list())"
    },
    "r": {
     "delete_cmd_postfix": ") ",
     "delete_cmd_prefix": "rm(",
     "library": "var_list.r",
     "varRefreshCmd": "cat(var_dic_list()) "
    }
   },
   "types_to_exclude": [
    "module",
    "function",
    "builtin_function_or_method",
    "instance",
    "_Feature"
   ],
   "window_display": false
  }
 },
 "nbformat": 4,
 "nbformat_minor": 5
}
