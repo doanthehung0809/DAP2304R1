{
 "cells": [
  {
   "cell_type": "markdown",
   "id": "e816066f",
   "metadata": {},
   "source": [
    "# Import thư viện"
   ]
  },
  {
   "cell_type": "code",
   "execution_count": 163,
   "id": "c4ce7698",
   "metadata": {},
   "outputs": [],
   "source": [
    "import numpy as np\n",
    "import pandas as pd \n",
    "import seaborn as sns\n",
    "from sklearn import linear_model\n",
    "import matplotlib.pyplot as plt \n",
    "from sklearn.model_selection import train_test_split\n",
    "from sklearn.metrics import mean_absolute_error, mean_absolute_percentage_error\n",
    "from sklearn.preprocessing import RobustScaler, MinMaxScaler,StandardScaler"
   ]
  },
  {
   "cell_type": "code",
   "execution_count": 164,
   "id": "1e7058f2",
   "metadata": {},
   "outputs": [],
   "source": [
    "# Load data\n",
    "df = pd.read_csv(r\"E:\\Gymcode\\DA\\DAP2304R1\\tong ket\\RoadSurfaceHouseTrading.csv\")"
   ]
  },
  {
   "cell_type": "code",
   "execution_count": 165,
   "id": "96f4d4a8",
   "metadata": {
    "scrolled": false
   },
   "outputs": [
    {
     "data": {
      "text/html": [
       "<div>\n",
       "<style scoped>\n",
       "    .dataframe tbody tr th:only-of-type {\n",
       "        vertical-align: middle;\n",
       "    }\n",
       "\n",
       "    .dataframe tbody tr th {\n",
       "        vertical-align: top;\n",
       "    }\n",
       "\n",
       "    .dataframe thead th {\n",
       "        text-align: right;\n",
       "    }\n",
       "</style>\n",
       "<table border=\"1\" class=\"dataframe\">\n",
       "  <thead>\n",
       "    <tr style=\"text-align: right;\">\n",
       "      <th></th>\n",
       "      <th>Unnamed: 0</th>\n",
       "      <th>dien_tich</th>\n",
       "      <th>huong_ban_cong</th>\n",
       "      <th>phong_ngu</th>\n",
       "      <th>id_thanh_pho</th>\n",
       "      <th>ten_thanh_pho</th>\n",
       "      <th>id_quan</th>\n",
       "      <th>ten_quan</th>\n",
       "      <th>so_tang</th>\n",
       "      <th>mat_tien</th>\n",
       "      <th>...</th>\n",
       "      <th>gia</th>\n",
       "      <th>gia_m2</th>\n",
       "      <th>du_an</th>\n",
       "      <th>project_name</th>\n",
       "      <th>id_duong</th>\n",
       "      <th>ten_duong</th>\n",
       "      <th>do_rong_duong</th>\n",
       "      <th>do_rong_duong_ml</th>\n",
       "      <th>id_phuong</th>\n",
       "      <th>ten_phuong</th>\n",
       "    </tr>\n",
       "  </thead>\n",
       "  <tbody>\n",
       "    <tr>\n",
       "      <th>0</th>\n",
       "      <td>0</td>\n",
       "      <td>42.0</td>\n",
       "      <td>NaN</td>\n",
       "      <td>2.0</td>\n",
       "      <td>5e5501caeb80a7245175dddb</td>\n",
       "      <td>Thành phố Hà Nội</td>\n",
       "      <td>NaN</td>\n",
       "      <td>NaN</td>\n",
       "      <td>3.0</td>\n",
       "      <td>NaN</td>\n",
       "      <td>...</td>\n",
       "      <td>2250.0</td>\n",
       "      <td>53.571429</td>\n",
       "      <td>NaN</td>\n",
       "      <td>NaN</td>\n",
       "      <td>NaN</td>\n",
       "      <td>NaN</td>\n",
       "      <td>3.0</td>\n",
       "      <td>Mặt phố - Mặt đường</td>\n",
       "      <td>5e5501cbeb80a7245175e1ae</td>\n",
       "      <td>Phường Tây Mỗ</td>\n",
       "    </tr>\n",
       "    <tr>\n",
       "      <th>1</th>\n",
       "      <td>1</td>\n",
       "      <td>220.0</td>\n",
       "      <td>NaN</td>\n",
       "      <td>NaN</td>\n",
       "      <td>5e5501caeb80a7245175dddb</td>\n",
       "      <td>Thành phố Hà Nội</td>\n",
       "      <td>5e5501caeb80a7245175de1a</td>\n",
       "      <td>Quận Ba Đình</td>\n",
       "      <td>NaN</td>\n",
       "      <td>NaN</td>\n",
       "      <td>...</td>\n",
       "      <td>61000.0</td>\n",
       "      <td>277.272727</td>\n",
       "      <td>NaN</td>\n",
       "      <td>NaN</td>\n",
       "      <td>NaN</td>\n",
       "      <td>NaN</td>\n",
       "      <td>NaN</td>\n",
       "      <td>Mặt phố - Mặt đường</td>\n",
       "      <td>NaN</td>\n",
       "      <td>NaN</td>\n",
       "    </tr>\n",
       "    <tr>\n",
       "      <th>2</th>\n",
       "      <td>2</td>\n",
       "      <td>69.0</td>\n",
       "      <td>Đông-Nam</td>\n",
       "      <td>9.0</td>\n",
       "      <td>5e5501caeb80a7245175dddb</td>\n",
       "      <td>Thành phố Hà Nội</td>\n",
       "      <td>5e5501caeb80a7245175de1a</td>\n",
       "      <td>Quận Ba Đình</td>\n",
       "      <td>7.0</td>\n",
       "      <td>8.3</td>\n",
       "      <td>...</td>\n",
       "      <td>21000.0</td>\n",
       "      <td>304.347826</td>\n",
       "      <td>NaN</td>\n",
       "      <td>NaN</td>\n",
       "      <td>5e958ee8208d0d6d7648f98f</td>\n",
       "      <td>Đường Nguyễn Công Hoan</td>\n",
       "      <td>NaN</td>\n",
       "      <td>Mặt phố - Mặt đường</td>\n",
       "      <td>5e5501cbeb80a7245175e0eb</td>\n",
       "      <td>Phường Ngọc Khánh</td>\n",
       "    </tr>\n",
       "    <tr>\n",
       "      <th>3</th>\n",
       "      <td>3</td>\n",
       "      <td>50.0</td>\n",
       "      <td>NaN</td>\n",
       "      <td>NaN</td>\n",
       "      <td>5e5501caeb80a7245175dddb</td>\n",
       "      <td>Thành phố Hà Nội</td>\n",
       "      <td>5e5501caeb80a7245175de1a</td>\n",
       "      <td>Quận Ba Đình</td>\n",
       "      <td>5.0</td>\n",
       "      <td>NaN</td>\n",
       "      <td>...</td>\n",
       "      <td>25000.0</td>\n",
       "      <td>500.000000</td>\n",
       "      <td>NaN</td>\n",
       "      <td>NaN</td>\n",
       "      <td>5e958ee8208d0d6d7648f9ac</td>\n",
       "      <td>Đường Trần Phú</td>\n",
       "      <td>NaN</td>\n",
       "      <td>Mặt phố - Mặt đường</td>\n",
       "      <td>5e5501cbeb80a7245175e0ec</td>\n",
       "      <td>Phường Kim Mã</td>\n",
       "    </tr>\n",
       "    <tr>\n",
       "      <th>4</th>\n",
       "      <td>4</td>\n",
       "      <td>72.0</td>\n",
       "      <td>NaN</td>\n",
       "      <td>5.0</td>\n",
       "      <td>5e5501caeb80a7245175dddb</td>\n",
       "      <td>Thành phố Hà Nội</td>\n",
       "      <td>5e5501caeb80a7245175de1a</td>\n",
       "      <td>Quận Ba Đình</td>\n",
       "      <td>5.0</td>\n",
       "      <td>6.0</td>\n",
       "      <td>...</td>\n",
       "      <td>12000.0</td>\n",
       "      <td>166.666667</td>\n",
       "      <td>NaN</td>\n",
       "      <td>NaN</td>\n",
       "      <td>5e958ee8208d0d6d7648f974</td>\n",
       "      <td>Đường Đào Tấn</td>\n",
       "      <td>60.0</td>\n",
       "      <td>Ngõ 4 ô tô trở lên</td>\n",
       "      <td>5e5501cbeb80a7245175e0e4</td>\n",
       "      <td>Phường Cống Vị</td>\n",
       "    </tr>\n",
       "  </tbody>\n",
       "</table>\n",
       "<p>5 rows × 25 columns</p>\n",
       "</div>"
      ],
      "text/plain": [
       "   Unnamed: 0  dien_tich huong_ban_cong  phong_ngu              id_thanh_pho  \\\n",
       "0           0       42.0            NaN        2.0  5e5501caeb80a7245175dddb   \n",
       "1           1      220.0            NaN        NaN  5e5501caeb80a7245175dddb   \n",
       "2           2       69.0       Đông-Nam        9.0  5e5501caeb80a7245175dddb   \n",
       "3           3       50.0            NaN        NaN  5e5501caeb80a7245175dddb   \n",
       "4           4       72.0            NaN        5.0  5e5501caeb80a7245175dddb   \n",
       "\n",
       "      ten_thanh_pho                   id_quan      ten_quan  so_tang  \\\n",
       "0  Thành phố Hà Nội                       NaN           NaN      3.0   \n",
       "1  Thành phố Hà Nội  5e5501caeb80a7245175de1a  Quận Ba Đình      NaN   \n",
       "2  Thành phố Hà Nội  5e5501caeb80a7245175de1a  Quận Ba Đình      7.0   \n",
       "3  Thành phố Hà Nội  5e5501caeb80a7245175de1a  Quận Ba Đình      5.0   \n",
       "4  Thành phố Hà Nội  5e5501caeb80a7245175de1a  Quận Ba Đình      5.0   \n",
       "\n",
       "   mat_tien  ...      gia      gia_m2 du_an  project_name  \\\n",
       "0       NaN  ...   2250.0   53.571429   NaN           NaN   \n",
       "1       NaN  ...  61000.0  277.272727   NaN           NaN   \n",
       "2       8.3  ...  21000.0  304.347826   NaN           NaN   \n",
       "3       NaN  ...  25000.0  500.000000   NaN           NaN   \n",
       "4       6.0  ...  12000.0  166.666667   NaN           NaN   \n",
       "\n",
       "                   id_duong               ten_duong  do_rong_duong  \\\n",
       "0                       NaN                     NaN            3.0   \n",
       "1                       NaN                     NaN            NaN   \n",
       "2  5e958ee8208d0d6d7648f98f  Đường Nguyễn Công Hoan            NaN   \n",
       "3  5e958ee8208d0d6d7648f9ac          Đường Trần Phú            NaN   \n",
       "4  5e958ee8208d0d6d7648f974           Đường Đào Tấn           60.0   \n",
       "\n",
       "      do_rong_duong_ml                 id_phuong         ten_phuong  \n",
       "0  Mặt phố - Mặt đường  5e5501cbeb80a7245175e1ae      Phường Tây Mỗ  \n",
       "1  Mặt phố - Mặt đường                       NaN                NaN  \n",
       "2  Mặt phố - Mặt đường  5e5501cbeb80a7245175e0eb  Phường Ngọc Khánh  \n",
       "3  Mặt phố - Mặt đường  5e5501cbeb80a7245175e0ec      Phường Kim Mã  \n",
       "4   Ngõ 4 ô tô trở lên  5e5501cbeb80a7245175e0e4     Phường Cống Vị  \n",
       "\n",
       "[5 rows x 25 columns]"
      ]
     },
     "execution_count": 165,
     "metadata": {},
     "output_type": "execute_result"
    }
   ],
   "source": [
    "# Đọc 5 dòng đầu tiên\n",
    "df.head()"
   ]
  },
  {
   "cell_type": "markdown",
   "id": "55b793b7",
   "metadata": {},
   "source": [
    "# Chỉ lấy dữ liệu quận Hoàn Kiếm"
   ]
  },
  {
   "cell_type": "code",
   "execution_count": 166,
   "id": "537bf634",
   "metadata": {},
   "outputs": [
    {
     "data": {
      "text/plain": [
       "array([nan, 'Quận Ba Đình', 'Ba Đình', 'Hà Đông', 'Quận Hà Đông',\n",
       "       'Thị xã Sơn Tây', 'Huyện Ba Vì', 'Huyện Đan Phượng',\n",
       "       'Huyện Hoài Đức', 'Huyện Quốc Oai', 'Huyện Thạch Thất',\n",
       "       'Huyện Chương Mỹ', 'Huyện Thanh Oai', 'Huyện Thường Tín',\n",
       "       'Thường Tín', 'Quận Hoàn Kiếm', 'Hoàn Kiếm', 'Tây Hồ',\n",
       "       'Quận Tây Hồ', 'Quận Long Biên', 'Long Biên', 'Quận Cầu Giấy',\n",
       "       'Cầu Giấy', 'Quận Đống Đa', 'Đống Đa', 'Quận Hai Bà Trưng',\n",
       "       'Hai Bà Trưng', 'Hoàng Mai', 'Quận Hoàng Mai', 'Quận Thanh Xuân',\n",
       "       'Thanh Xuân', 'Huyện Sóc Sơn', 'Huyện Đông Anh', 'Huyện Gia Lâm',\n",
       "       'Quận Nam Từ Liêm', 'Nam Từ Liêm', 'Huyện Thanh Trì',\n",
       "       'Quận Bắc Từ Liêm', 'Bắc Từ Liêm', 'Huyện Mê Linh'], dtype=object)"
      ]
     },
     "execution_count": 166,
     "metadata": {},
     "output_type": "execute_result"
    }
   ],
   "source": [
    "# Kiểm tra Unique ten_quan\n",
    "df['ten_quan'].unique()"
   ]
  },
  {
   "cell_type": "code",
   "execution_count": 167,
   "id": "c688cc3b",
   "metadata": {},
   "outputs": [],
   "source": [
    "# Chỉ lấy ra quận Hoàn Kiếm\n",
    "df_hk = df[(df['ten_quan']=='Hoàn Kiếm') | (df['ten_quan']=='Quận Hoàn Kiếm')]"
   ]
  },
  {
   "cell_type": "code",
   "execution_count": 168,
   "id": "bdf5ba34",
   "metadata": {},
   "outputs": [],
   "source": [
    "# Lấy các cột cần thiết để phân tích\n",
    "df_hk = df_hk[['dien_tich','phong_ngu','so_tang','mat_tien','so_do','lat','long','gia','gia_m2','do_rong_duong_ml']]"
   ]
  },
  {
   "cell_type": "code",
   "execution_count": 169,
   "id": "dde072b0",
   "metadata": {
    "scrolled": true
   },
   "outputs": [
    {
     "name": "stdout",
     "output_type": "stream",
     "text": [
      "<class 'pandas.core.frame.DataFrame'>\n",
      "Int64Index: 2767 entries, 11402 to 14168\n",
      "Data columns (total 10 columns):\n",
      " #   Column            Non-Null Count  Dtype  \n",
      "---  ------            --------------  -----  \n",
      " 0   dien_tich         2726 non-null   float64\n",
      " 1   phong_ngu         1394 non-null   float64\n",
      " 2   so_tang           1924 non-null   float64\n",
      " 3   mat_tien          988 non-null    float64\n",
      " 4   so_do             1686 non-null   object \n",
      " 5   lat               2767 non-null   float64\n",
      " 6   long              2767 non-null   float64\n",
      " 7   gia               2589 non-null   float64\n",
      " 8   gia_m2            2573 non-null   float64\n",
      " 9   do_rong_duong_ml  2666 non-null   object \n",
      "dtypes: float64(8), object(2)\n",
      "memory usage: 237.8+ KB\n"
     ]
    }
   ],
   "source": [
    "# Kiểm tra thông tin dữ liệu HK\n",
    "df_hk.info()"
   ]
  },
  {
   "cell_type": "code",
   "execution_count": 170,
   "id": "63e8995a",
   "metadata": {
    "scrolled": true
   },
   "outputs": [
    {
     "data": {
      "text/html": [
       "<div>\n",
       "<style scoped>\n",
       "    .dataframe tbody tr th:only-of-type {\n",
       "        vertical-align: middle;\n",
       "    }\n",
       "\n",
       "    .dataframe tbody tr th {\n",
       "        vertical-align: top;\n",
       "    }\n",
       "\n",
       "    .dataframe thead th {\n",
       "        text-align: right;\n",
       "    }\n",
       "</style>\n",
       "<table border=\"1\" class=\"dataframe\">\n",
       "  <thead>\n",
       "    <tr style=\"text-align: right;\">\n",
       "      <th></th>\n",
       "      <th>dien_tich</th>\n",
       "      <th>phong_ngu</th>\n",
       "      <th>so_tang</th>\n",
       "      <th>mat_tien</th>\n",
       "      <th>lat</th>\n",
       "      <th>long</th>\n",
       "      <th>gia</th>\n",
       "      <th>gia_m2</th>\n",
       "    </tr>\n",
       "  </thead>\n",
       "  <tbody>\n",
       "    <tr>\n",
       "      <th>count</th>\n",
       "      <td>2726.000000</td>\n",
       "      <td>1394.000000</td>\n",
       "      <td>1924.000000</td>\n",
       "      <td>988.000000</td>\n",
       "      <td>2767.000000</td>\n",
       "      <td>2767.000000</td>\n",
       "      <td>2.589000e+03</td>\n",
       "      <td>2.573000e+03</td>\n",
       "    </tr>\n",
       "    <tr>\n",
       "      <th>mean</th>\n",
       "      <td>249.464710</td>\n",
       "      <td>11.684362</td>\n",
       "      <td>5.546258</td>\n",
       "      <td>9.033370</td>\n",
       "      <td>21.029838</td>\n",
       "      <td>105.850013</td>\n",
       "      <td>6.285638e+05</td>\n",
       "      <td>1.368988e+03</td>\n",
       "    </tr>\n",
       "    <tr>\n",
       "      <th>std</th>\n",
       "      <td>3488.737608</td>\n",
       "      <td>18.419439</td>\n",
       "      <td>3.113128</td>\n",
       "      <td>27.491111</td>\n",
       "      <td>0.006051</td>\n",
       "      <td>0.004400</td>\n",
       "      <td>1.702487e+07</td>\n",
       "      <td>2.125181e+04</td>\n",
       "    </tr>\n",
       "    <tr>\n",
       "      <th>min</th>\n",
       "      <td>0.000000</td>\n",
       "      <td>1.000000</td>\n",
       "      <td>1.000000</td>\n",
       "      <td>1.000000</td>\n",
       "      <td>20.979154</td>\n",
       "      <td>105.795726</td>\n",
       "      <td>3.300000e-02</td>\n",
       "      <td>9.545455e-07</td>\n",
       "    </tr>\n",
       "    <tr>\n",
       "      <th>25%</th>\n",
       "      <td>56.000000</td>\n",
       "      <td>3.000000</td>\n",
       "      <td>3.000000</td>\n",
       "      <td>4.500000</td>\n",
       "      <td>21.024658</td>\n",
       "      <td>105.846880</td>\n",
       "      <td>2.300000e+04</td>\n",
       "      <td>3.897059e+02</td>\n",
       "    </tr>\n",
       "    <tr>\n",
       "      <th>50%</th>\n",
       "      <td>100.000000</td>\n",
       "      <td>5.000000</td>\n",
       "      <td>5.000000</td>\n",
       "      <td>6.050000</td>\n",
       "      <td>21.031384</td>\n",
       "      <td>105.850047</td>\n",
       "      <td>4.550000e+04</td>\n",
       "      <td>5.573770e+02</td>\n",
       "    </tr>\n",
       "    <tr>\n",
       "      <th>75%</th>\n",
       "      <td>195.000000</td>\n",
       "      <td>10.000000</td>\n",
       "      <td>7.000000</td>\n",
       "      <td>9.075000</td>\n",
       "      <td>21.034260</td>\n",
       "      <td>105.853024</td>\n",
       "      <td>1.300000e+05</td>\n",
       "      <td>7.500000e+02</td>\n",
       "    </tr>\n",
       "    <tr>\n",
       "      <th>max</th>\n",
       "      <td>180000.000000</td>\n",
       "      <td>201.000000</td>\n",
       "      <td>26.000000</td>\n",
       "      <td>836.000000</td>\n",
       "      <td>21.043608</td>\n",
       "      <td>105.865727</td>\n",
       "      <td>7.890000e+08</td>\n",
       "      <td>7.890000e+05</td>\n",
       "    </tr>\n",
       "  </tbody>\n",
       "</table>\n",
       "</div>"
      ],
      "text/plain": [
       "           dien_tich    phong_ngu      so_tang    mat_tien          lat  \\\n",
       "count    2726.000000  1394.000000  1924.000000  988.000000  2767.000000   \n",
       "mean      249.464710    11.684362     5.546258    9.033370    21.029838   \n",
       "std      3488.737608    18.419439     3.113128   27.491111     0.006051   \n",
       "min         0.000000     1.000000     1.000000    1.000000    20.979154   \n",
       "25%        56.000000     3.000000     3.000000    4.500000    21.024658   \n",
       "50%       100.000000     5.000000     5.000000    6.050000    21.031384   \n",
       "75%       195.000000    10.000000     7.000000    9.075000    21.034260   \n",
       "max    180000.000000   201.000000    26.000000  836.000000    21.043608   \n",
       "\n",
       "              long           gia        gia_m2  \n",
       "count  2767.000000  2.589000e+03  2.573000e+03  \n",
       "mean    105.850013  6.285638e+05  1.368988e+03  \n",
       "std       0.004400  1.702487e+07  2.125181e+04  \n",
       "min     105.795726  3.300000e-02  9.545455e-07  \n",
       "25%     105.846880  2.300000e+04  3.897059e+02  \n",
       "50%     105.850047  4.550000e+04  5.573770e+02  \n",
       "75%     105.853024  1.300000e+05  7.500000e+02  \n",
       "max     105.865727  7.890000e+08  7.890000e+05  "
      ]
     },
     "execution_count": 170,
     "metadata": {},
     "output_type": "execute_result"
    }
   ],
   "source": [
    "# Thống kê dữ liệu\n",
    "df_hk.describe()"
   ]
  },
  {
   "cell_type": "markdown",
   "id": "5c46e51b",
   "metadata": {},
   "source": [
    "## Chuyển đổi cột so_do và do_rong_duong"
   ]
  },
  {
   "cell_type": "code",
   "execution_count": 171,
   "id": "f5cabaed",
   "metadata": {
    "scrolled": true
   },
   "outputs": [
    {
     "data": {
      "text/plain": [
       "array(['Giấy đỏ', 'Đã có sổ', 'Đã có sổ hồng', ...,\n",
       "       'Sổ đỏ chính chủ, pháp lý rõ ràng, giao rịch ngay',\n",
       "       'Sổ đỏ chính chủ, giấy phép xây dựng, pháp lý đầy đủ cất két, sẵn sàng giao dịch.',\n",
       "       'Có sổ đẹp pháp lý rõ ràng'], dtype=object)"
      ]
     },
     "execution_count": 171,
     "metadata": {},
     "output_type": "execute_result"
    }
   ],
   "source": [
    "df['so_do'].unique()"
   ]
  },
  {
   "cell_type": "code",
   "execution_count": 172,
   "id": "4db3af84",
   "metadata": {},
   "outputs": [],
   "source": [
    "# Hàm chuyển đổi cột sổ đỏ\n",
    "def convert_policy(_str):\n",
    "    \"\"\"\n",
    "    _str: gia tri dau vao cua so hong so do\n",
    "    return:\n",
    "    1: co so hong so do\n",
    "    0: ko co\n",
    "    \"\"\"\n",
    "    if pd.isna(_str):\n",
    "        return 0\n",
    "    return 1"
   ]
  },
  {
   "cell_type": "code",
   "execution_count": 173,
   "id": "92278d09",
   "metadata": {
    "scrolled": true
   },
   "outputs": [
    {
     "data": {
      "text/plain": [
       "array(['Mặt phố - Mặt đường', 'Ngõ 4 ô tô trở lên', 'Ngõ 3 ô tô tránh',\n",
       "       'Ngõ 1 ô tô', nan, 'Ngõ 4 ô tô tránh', 'Ngõ 2 ô tô tránh',\n",
       "       'Ngõ ngách'], dtype=object)"
      ]
     },
     "execution_count": 173,
     "metadata": {},
     "output_type": "execute_result"
    }
   ],
   "source": [
    "df['do_rong_duong_ml'].unique()"
   ]
  },
  {
   "cell_type": "code",
   "execution_count": 174,
   "id": "765383cf",
   "metadata": {},
   "outputs": [],
   "source": [
    "# Hàm chuyển đổi độ rộng đường\n",
    "def convert_street_width(_str):\n",
    "    \"\"\"\n",
    "    mat pho mat duong:0,\n",
    "    ngo ngach/ empty: 1\n",
    "    ngo 1 oto:2\n",
    "    ngo 2 oto:3\n",
    "    ngo 3: 4\n",
    "    ngo 4: 5\n",
    "    ngo 5 oto tranh: 6\n",
    "\n",
    "    \"\"\"\n",
    "    index_lst = [\"Mặt phố - Mặt đường\",\"Ngõ ngách\", \"Ngõ 1 ô tô\", \"Ngõ 2 ô tô tránh\", \"Ngõ 3 ô tô tránh\", \"Ngõ 4 ô tô tránh\", \"Ngõ 4 ô tô trở lên\"]\n",
    "    \n",
    "    if pd.isna(_str):\n",
    "        return 0\n",
    "    elif(_str in index_lst):\n",
    "        return index_lst.index(_str)"
   ]
  },
  {
   "cell_type": "code",
   "execution_count": 175,
   "id": "f9b214ba",
   "metadata": {},
   "outputs": [],
   "source": [
    "# xử lý dữ liệu cột sổ đỏ và độ rộng đường\n",
    "df_hk[\"so_do\"] = df_hk[\"so_do\"].apply(lambda x: convert_policy (x))\n",
    "df_hk[\"do_rong_duong_ml\"] = df_hk[\"do_rong_duong_ml\"].apply(lambda x: convert_street_width(x))"
   ]
  },
  {
   "cell_type": "code",
   "execution_count": 176,
   "id": "128c9137",
   "metadata": {},
   "outputs": [
    {
     "data": {
      "text/html": [
       "<div>\n",
       "<style scoped>\n",
       "    .dataframe tbody tr th:only-of-type {\n",
       "        vertical-align: middle;\n",
       "    }\n",
       "\n",
       "    .dataframe tbody tr th {\n",
       "        vertical-align: top;\n",
       "    }\n",
       "\n",
       "    .dataframe thead th {\n",
       "        text-align: right;\n",
       "    }\n",
       "</style>\n",
       "<table border=\"1\" class=\"dataframe\">\n",
       "  <thead>\n",
       "    <tr style=\"text-align: right;\">\n",
       "      <th></th>\n",
       "      <th>dien_tich</th>\n",
       "      <th>phong_ngu</th>\n",
       "      <th>so_tang</th>\n",
       "      <th>mat_tien</th>\n",
       "      <th>so_do</th>\n",
       "      <th>lat</th>\n",
       "      <th>long</th>\n",
       "      <th>gia</th>\n",
       "      <th>gia_m2</th>\n",
       "      <th>do_rong_duong_ml</th>\n",
       "    </tr>\n",
       "  </thead>\n",
       "  <tbody>\n",
       "    <tr>\n",
       "      <th>count</th>\n",
       "      <td>2726.000000</td>\n",
       "      <td>1394.000000</td>\n",
       "      <td>1924.000000</td>\n",
       "      <td>988.000000</td>\n",
       "      <td>2767.000000</td>\n",
       "      <td>2767.000000</td>\n",
       "      <td>2767.000000</td>\n",
       "      <td>2.589000e+03</td>\n",
       "      <td>2.573000e+03</td>\n",
       "      <td>2767.000000</td>\n",
       "    </tr>\n",
       "    <tr>\n",
       "      <th>mean</th>\n",
       "      <td>249.464710</td>\n",
       "      <td>11.684362</td>\n",
       "      <td>5.546258</td>\n",
       "      <td>9.033370</td>\n",
       "      <td>0.609324</td>\n",
       "      <td>21.029838</td>\n",
       "      <td>105.850013</td>\n",
       "      <td>6.285638e+05</td>\n",
       "      <td>1.368988e+03</td>\n",
       "      <td>0.223708</td>\n",
       "    </tr>\n",
       "    <tr>\n",
       "      <th>std</th>\n",
       "      <td>3488.737608</td>\n",
       "      <td>18.419439</td>\n",
       "      <td>3.113128</td>\n",
       "      <td>27.491111</td>\n",
       "      <td>0.487990</td>\n",
       "      <td>0.006051</td>\n",
       "      <td>0.004400</td>\n",
       "      <td>1.702487e+07</td>\n",
       "      <td>2.125181e+04</td>\n",
       "      <td>1.093351</td>\n",
       "    </tr>\n",
       "    <tr>\n",
       "      <th>min</th>\n",
       "      <td>0.000000</td>\n",
       "      <td>1.000000</td>\n",
       "      <td>1.000000</td>\n",
       "      <td>1.000000</td>\n",
       "      <td>0.000000</td>\n",
       "      <td>20.979154</td>\n",
       "      <td>105.795726</td>\n",
       "      <td>3.300000e-02</td>\n",
       "      <td>9.545455e-07</td>\n",
       "      <td>0.000000</td>\n",
       "    </tr>\n",
       "    <tr>\n",
       "      <th>25%</th>\n",
       "      <td>56.000000</td>\n",
       "      <td>3.000000</td>\n",
       "      <td>3.000000</td>\n",
       "      <td>4.500000</td>\n",
       "      <td>0.000000</td>\n",
       "      <td>21.024658</td>\n",
       "      <td>105.846880</td>\n",
       "      <td>2.300000e+04</td>\n",
       "      <td>3.897059e+02</td>\n",
       "      <td>0.000000</td>\n",
       "    </tr>\n",
       "    <tr>\n",
       "      <th>50%</th>\n",
       "      <td>100.000000</td>\n",
       "      <td>5.000000</td>\n",
       "      <td>5.000000</td>\n",
       "      <td>6.050000</td>\n",
       "      <td>1.000000</td>\n",
       "      <td>21.031384</td>\n",
       "      <td>105.850047</td>\n",
       "      <td>4.550000e+04</td>\n",
       "      <td>5.573770e+02</td>\n",
       "      <td>0.000000</td>\n",
       "    </tr>\n",
       "    <tr>\n",
       "      <th>75%</th>\n",
       "      <td>195.000000</td>\n",
       "      <td>10.000000</td>\n",
       "      <td>7.000000</td>\n",
       "      <td>9.075000</td>\n",
       "      <td>1.000000</td>\n",
       "      <td>21.034260</td>\n",
       "      <td>105.853024</td>\n",
       "      <td>1.300000e+05</td>\n",
       "      <td>7.500000e+02</td>\n",
       "      <td>0.000000</td>\n",
       "    </tr>\n",
       "    <tr>\n",
       "      <th>max</th>\n",
       "      <td>180000.000000</td>\n",
       "      <td>201.000000</td>\n",
       "      <td>26.000000</td>\n",
       "      <td>836.000000</td>\n",
       "      <td>1.000000</td>\n",
       "      <td>21.043608</td>\n",
       "      <td>105.865727</td>\n",
       "      <td>7.890000e+08</td>\n",
       "      <td>7.890000e+05</td>\n",
       "      <td>6.000000</td>\n",
       "    </tr>\n",
       "  </tbody>\n",
       "</table>\n",
       "</div>"
      ],
      "text/plain": [
       "           dien_tich    phong_ngu      so_tang    mat_tien        so_do  \\\n",
       "count    2726.000000  1394.000000  1924.000000  988.000000  2767.000000   \n",
       "mean      249.464710    11.684362     5.546258    9.033370     0.609324   \n",
       "std      3488.737608    18.419439     3.113128   27.491111     0.487990   \n",
       "min         0.000000     1.000000     1.000000    1.000000     0.000000   \n",
       "25%        56.000000     3.000000     3.000000    4.500000     0.000000   \n",
       "50%       100.000000     5.000000     5.000000    6.050000     1.000000   \n",
       "75%       195.000000    10.000000     7.000000    9.075000     1.000000   \n",
       "max    180000.000000   201.000000    26.000000  836.000000     1.000000   \n",
       "\n",
       "               lat         long           gia        gia_m2  do_rong_duong_ml  \n",
       "count  2767.000000  2767.000000  2.589000e+03  2.573000e+03       2767.000000  \n",
       "mean     21.029838   105.850013  6.285638e+05  1.368988e+03          0.223708  \n",
       "std       0.006051     0.004400  1.702487e+07  2.125181e+04          1.093351  \n",
       "min      20.979154   105.795726  3.300000e-02  9.545455e-07          0.000000  \n",
       "25%      21.024658   105.846880  2.300000e+04  3.897059e+02          0.000000  \n",
       "50%      21.031384   105.850047  4.550000e+04  5.573770e+02          0.000000  \n",
       "75%      21.034260   105.853024  1.300000e+05  7.500000e+02          0.000000  \n",
       "max      21.043608   105.865727  7.890000e+08  7.890000e+05          6.000000  "
      ]
     },
     "execution_count": 176,
     "metadata": {},
     "output_type": "execute_result"
    }
   ],
   "source": [
    "# Thống kê dữ liệu\n",
    "df_hk.describe()"
   ]
  },
  {
   "cell_type": "markdown",
   "id": "71d6c7aa",
   "metadata": {},
   "source": [
    "# Chuyển đổi dữ liệu lat, long, so_do sang dạng category"
   ]
  },
  {
   "cell_type": "code",
   "execution_count": 177,
   "id": "cd44c170",
   "metadata": {},
   "outputs": [],
   "source": [
    "cols = ['so_do','lat','long']\n",
    "def convert_cat(df,cols):\n",
    "    for col in cols:\n",
    "        df[col] = df[col].astype(\"category\")\n",
    "convert_cat(df_hk,cols)"
   ]
  },
  {
   "cell_type": "code",
   "execution_count": 178,
   "id": "11dd7951",
   "metadata": {
    "scrolled": false
   },
   "outputs": [
    {
     "data": {
      "text/html": [
       "<div>\n",
       "<style scoped>\n",
       "    .dataframe tbody tr th:only-of-type {\n",
       "        vertical-align: middle;\n",
       "    }\n",
       "\n",
       "    .dataframe tbody tr th {\n",
       "        vertical-align: top;\n",
       "    }\n",
       "\n",
       "    .dataframe thead th {\n",
       "        text-align: right;\n",
       "    }\n",
       "</style>\n",
       "<table border=\"1\" class=\"dataframe\">\n",
       "  <thead>\n",
       "    <tr style=\"text-align: right;\">\n",
       "      <th></th>\n",
       "      <th>dien_tich</th>\n",
       "      <th>phong_ngu</th>\n",
       "      <th>so_tang</th>\n",
       "      <th>mat_tien</th>\n",
       "      <th>so_do</th>\n",
       "      <th>lat</th>\n",
       "      <th>long</th>\n",
       "      <th>gia</th>\n",
       "      <th>gia_m2</th>\n",
       "      <th>do_rong_duong_ml</th>\n",
       "    </tr>\n",
       "  </thead>\n",
       "  <tbody>\n",
       "    <tr>\n",
       "      <th>11402</th>\n",
       "      <td>105.0</td>\n",
       "      <td>NaN</td>\n",
       "      <td>6.0</td>\n",
       "      <td>NaN</td>\n",
       "      <td>0</td>\n",
       "      <td>21.026394</td>\n",
       "      <td>105.850047</td>\n",
       "      <td>58000.0</td>\n",
       "      <td>552.380952</td>\n",
       "      <td>0</td>\n",
       "    </tr>\n",
       "    <tr>\n",
       "      <th>11403</th>\n",
       "      <td>80.0</td>\n",
       "      <td>3.0</td>\n",
       "      <td>3.0</td>\n",
       "      <td>3.0</td>\n",
       "      <td>1</td>\n",
       "      <td>21.025228</td>\n",
       "      <td>105.842607</td>\n",
       "      <td>28000.0</td>\n",
       "      <td>350.000000</td>\n",
       "      <td>0</td>\n",
       "    </tr>\n",
       "    <tr>\n",
       "      <th>11404</th>\n",
       "      <td>80.0</td>\n",
       "      <td>3.0</td>\n",
       "      <td>3.0</td>\n",
       "      <td>3.0</td>\n",
       "      <td>1</td>\n",
       "      <td>21.025228</td>\n",
       "      <td>105.842607</td>\n",
       "      <td>28000.0</td>\n",
       "      <td>350.000000</td>\n",
       "      <td>0</td>\n",
       "    </tr>\n",
       "    <tr>\n",
       "      <th>11405</th>\n",
       "      <td>80.0</td>\n",
       "      <td>3.0</td>\n",
       "      <td>3.0</td>\n",
       "      <td>3.0</td>\n",
       "      <td>1</td>\n",
       "      <td>21.025228</td>\n",
       "      <td>105.842607</td>\n",
       "      <td>28000.0</td>\n",
       "      <td>350.000000</td>\n",
       "      <td>0</td>\n",
       "    </tr>\n",
       "    <tr>\n",
       "      <th>11406</th>\n",
       "      <td>40.0</td>\n",
       "      <td>2.0</td>\n",
       "      <td>4.0</td>\n",
       "      <td>NaN</td>\n",
       "      <td>1</td>\n",
       "      <td>21.033029</td>\n",
       "      <td>105.853024</td>\n",
       "      <td>24000.0</td>\n",
       "      <td>600.000000</td>\n",
       "      <td>3</td>\n",
       "    </tr>\n",
       "  </tbody>\n",
       "</table>\n",
       "</div>"
      ],
      "text/plain": [
       "       dien_tich  phong_ngu  so_tang  mat_tien so_do        lat        long  \\\n",
       "11402      105.0        NaN      6.0       NaN     0  21.026394  105.850047   \n",
       "11403       80.0        3.0      3.0       3.0     1  21.025228  105.842607   \n",
       "11404       80.0        3.0      3.0       3.0     1  21.025228  105.842607   \n",
       "11405       80.0        3.0      3.0       3.0     1  21.025228  105.842607   \n",
       "11406       40.0        2.0      4.0       NaN     1  21.033029  105.853024   \n",
       "\n",
       "           gia      gia_m2  do_rong_duong_ml  \n",
       "11402  58000.0  552.380952                 0  \n",
       "11403  28000.0  350.000000                 0  \n",
       "11404  28000.0  350.000000                 0  \n",
       "11405  28000.0  350.000000                 0  \n",
       "11406  24000.0  600.000000                 3  "
      ]
     },
     "execution_count": 178,
     "metadata": {},
     "output_type": "execute_result"
    }
   ],
   "source": [
    "df_hk.head()"
   ]
  },
  {
   "cell_type": "code",
   "execution_count": 179,
   "id": "b4fec756",
   "metadata": {
    "scrolled": false
   },
   "outputs": [
    {
     "data": {
      "text/html": [
       "<div>\n",
       "<style scoped>\n",
       "    .dataframe tbody tr th:only-of-type {\n",
       "        vertical-align: middle;\n",
       "    }\n",
       "\n",
       "    .dataframe tbody tr th {\n",
       "        vertical-align: top;\n",
       "    }\n",
       "\n",
       "    .dataframe thead th {\n",
       "        text-align: right;\n",
       "    }\n",
       "</style>\n",
       "<table border=\"1\" class=\"dataframe\">\n",
       "  <thead>\n",
       "    <tr style=\"text-align: right;\">\n",
       "      <th></th>\n",
       "      <th>dien_tich</th>\n",
       "      <th>phong_ngu</th>\n",
       "      <th>so_tang</th>\n",
       "      <th>mat_tien</th>\n",
       "      <th>gia</th>\n",
       "      <th>gia_m2</th>\n",
       "      <th>do_rong_duong_ml</th>\n",
       "    </tr>\n",
       "  </thead>\n",
       "  <tbody>\n",
       "    <tr>\n",
       "      <th>count</th>\n",
       "      <td>2726.000000</td>\n",
       "      <td>1394.000000</td>\n",
       "      <td>1924.000000</td>\n",
       "      <td>988.000000</td>\n",
       "      <td>2.589000e+03</td>\n",
       "      <td>2.573000e+03</td>\n",
       "      <td>2767.000000</td>\n",
       "    </tr>\n",
       "    <tr>\n",
       "      <th>mean</th>\n",
       "      <td>249.464710</td>\n",
       "      <td>11.684362</td>\n",
       "      <td>5.546258</td>\n",
       "      <td>9.033370</td>\n",
       "      <td>6.285638e+05</td>\n",
       "      <td>1.368988e+03</td>\n",
       "      <td>0.223708</td>\n",
       "    </tr>\n",
       "    <tr>\n",
       "      <th>std</th>\n",
       "      <td>3488.737608</td>\n",
       "      <td>18.419439</td>\n",
       "      <td>3.113128</td>\n",
       "      <td>27.491111</td>\n",
       "      <td>1.702487e+07</td>\n",
       "      <td>2.125181e+04</td>\n",
       "      <td>1.093351</td>\n",
       "    </tr>\n",
       "    <tr>\n",
       "      <th>min</th>\n",
       "      <td>0.000000</td>\n",
       "      <td>1.000000</td>\n",
       "      <td>1.000000</td>\n",
       "      <td>1.000000</td>\n",
       "      <td>3.300000e-02</td>\n",
       "      <td>9.545455e-07</td>\n",
       "      <td>0.000000</td>\n",
       "    </tr>\n",
       "    <tr>\n",
       "      <th>25%</th>\n",
       "      <td>56.000000</td>\n",
       "      <td>3.000000</td>\n",
       "      <td>3.000000</td>\n",
       "      <td>4.500000</td>\n",
       "      <td>2.300000e+04</td>\n",
       "      <td>3.897059e+02</td>\n",
       "      <td>0.000000</td>\n",
       "    </tr>\n",
       "    <tr>\n",
       "      <th>50%</th>\n",
       "      <td>100.000000</td>\n",
       "      <td>5.000000</td>\n",
       "      <td>5.000000</td>\n",
       "      <td>6.050000</td>\n",
       "      <td>4.550000e+04</td>\n",
       "      <td>5.573770e+02</td>\n",
       "      <td>0.000000</td>\n",
       "    </tr>\n",
       "    <tr>\n",
       "      <th>75%</th>\n",
       "      <td>195.000000</td>\n",
       "      <td>10.000000</td>\n",
       "      <td>7.000000</td>\n",
       "      <td>9.075000</td>\n",
       "      <td>1.300000e+05</td>\n",
       "      <td>7.500000e+02</td>\n",
       "      <td>0.000000</td>\n",
       "    </tr>\n",
       "    <tr>\n",
       "      <th>max</th>\n",
       "      <td>180000.000000</td>\n",
       "      <td>201.000000</td>\n",
       "      <td>26.000000</td>\n",
       "      <td>836.000000</td>\n",
       "      <td>7.890000e+08</td>\n",
       "      <td>7.890000e+05</td>\n",
       "      <td>6.000000</td>\n",
       "    </tr>\n",
       "  </tbody>\n",
       "</table>\n",
       "</div>"
      ],
      "text/plain": [
       "           dien_tich    phong_ngu      so_tang    mat_tien           gia  \\\n",
       "count    2726.000000  1394.000000  1924.000000  988.000000  2.589000e+03   \n",
       "mean      249.464710    11.684362     5.546258    9.033370  6.285638e+05   \n",
       "std      3488.737608    18.419439     3.113128   27.491111  1.702487e+07   \n",
       "min         0.000000     1.000000     1.000000    1.000000  3.300000e-02   \n",
       "25%        56.000000     3.000000     3.000000    4.500000  2.300000e+04   \n",
       "50%       100.000000     5.000000     5.000000    6.050000  4.550000e+04   \n",
       "75%       195.000000    10.000000     7.000000    9.075000  1.300000e+05   \n",
       "max    180000.000000   201.000000    26.000000  836.000000  7.890000e+08   \n",
       "\n",
       "             gia_m2  do_rong_duong_ml  \n",
       "count  2.573000e+03       2767.000000  \n",
       "mean   1.368988e+03          0.223708  \n",
       "std    2.125181e+04          1.093351  \n",
       "min    9.545455e-07          0.000000  \n",
       "25%    3.897059e+02          0.000000  \n",
       "50%    5.573770e+02          0.000000  \n",
       "75%    7.500000e+02          0.000000  \n",
       "max    7.890000e+05          6.000000  "
      ]
     },
     "execution_count": 179,
     "metadata": {},
     "output_type": "execute_result"
    }
   ],
   "source": [
    "df_hk.describe()"
   ]
  },
  {
   "cell_type": "code",
   "execution_count": 180,
   "id": "7cc89349",
   "metadata": {
    "scrolled": false
   },
   "outputs": [
    {
     "data": {
      "text/plain": [
       "dien_tich           0.014817\n",
       "phong_ngu           0.496205\n",
       "so_tang             0.304662\n",
       "mat_tien            0.642935\n",
       "so_do               0.000000\n",
       "lat                 0.000000\n",
       "long                0.000000\n",
       "gia                 0.064330\n",
       "gia_m2              0.070112\n",
       "do_rong_duong_ml    0.000000\n",
       "dtype: float64"
      ]
     },
     "execution_count": 180,
     "metadata": {},
     "output_type": "execute_result"
    }
   ],
   "source": [
    "#Kiểm tra giá trị khuyết thiếu của từng cột\n",
    "df_hk.isnull().sum()/df_hk.shape[0]"
   ]
  },
  {
   "cell_type": "code",
   "execution_count": 181,
   "id": "3897b7e6",
   "metadata": {},
   "outputs": [],
   "source": [
    "# Điền giá trị khuyết thiếu của cột gia_m2 dựa vào cột diện tích và giá\n",
    "mask = df_hk['dien_tich'].isnull() & ~df_hk['gia'].isnull()\n",
    "df_hk.loc[mask, 'gia_m2'] = df_hk.loc[mask, 'dien_tich'] / df_hk.loc[mask, 'gia']"
   ]
  },
  {
   "cell_type": "code",
   "execution_count": 182,
   "id": "c700a3ce",
   "metadata": {
    "scrolled": false
   },
   "outputs": [
    {
     "name": "stdout",
     "output_type": "stream",
     "text": [
      "<class 'pandas.core.frame.DataFrame'>\n",
      "Int64Index: 2767 entries, 11402 to 14168\n",
      "Data columns (total 10 columns):\n",
      " #   Column            Non-Null Count  Dtype   \n",
      "---  ------            --------------  -----   \n",
      " 0   dien_tich         2726 non-null   float64 \n",
      " 1   phong_ngu         1394 non-null   float64 \n",
      " 2   so_tang           1924 non-null   float64 \n",
      " 3   mat_tien          988 non-null    float64 \n",
      " 4   so_do             2767 non-null   category\n",
      " 5   lat               2767 non-null   category\n",
      " 6   long              2767 non-null   category\n",
      " 7   gia               2589 non-null   float64 \n",
      " 8   gia_m2            2572 non-null   float64 \n",
      " 9   do_rong_duong_ml  2767 non-null   int64   \n",
      "dtypes: category(3), float64(6), int64(1)\n",
      "memory usage: 208.6 KB\n"
     ]
    }
   ],
   "source": [
    "df_hk.info()"
   ]
  },
  {
   "cell_type": "code",
   "execution_count": 183,
   "id": "3bd482a8",
   "metadata": {
    "scrolled": true
   },
   "outputs": [
    {
     "data": {
      "text/html": [
       "<div>\n",
       "<style scoped>\n",
       "    .dataframe tbody tr th:only-of-type {\n",
       "        vertical-align: middle;\n",
       "    }\n",
       "\n",
       "    .dataframe tbody tr th {\n",
       "        vertical-align: top;\n",
       "    }\n",
       "\n",
       "    .dataframe thead th {\n",
       "        text-align: right;\n",
       "    }\n",
       "</style>\n",
       "<table border=\"1\" class=\"dataframe\">\n",
       "  <thead>\n",
       "    <tr style=\"text-align: right;\">\n",
       "      <th></th>\n",
       "      <th>dien_tich</th>\n",
       "      <th>phong_ngu</th>\n",
       "      <th>so_tang</th>\n",
       "      <th>mat_tien</th>\n",
       "      <th>gia</th>\n",
       "      <th>gia_m2</th>\n",
       "      <th>do_rong_duong_ml</th>\n",
       "    </tr>\n",
       "  </thead>\n",
       "  <tbody>\n",
       "    <tr>\n",
       "      <th>count</th>\n",
       "      <td>2726.000000</td>\n",
       "      <td>1394.000000</td>\n",
       "      <td>1924.000000</td>\n",
       "      <td>988.000000</td>\n",
       "      <td>2.589000e+03</td>\n",
       "      <td>2.572000e+03</td>\n",
       "      <td>2767.000000</td>\n",
       "    </tr>\n",
       "    <tr>\n",
       "      <th>mean</th>\n",
       "      <td>249.464710</td>\n",
       "      <td>11.684362</td>\n",
       "      <td>5.546258</td>\n",
       "      <td>9.033370</td>\n",
       "      <td>6.285638e+05</td>\n",
       "      <td>1.369258e+03</td>\n",
       "      <td>0.223708</td>\n",
       "    </tr>\n",
       "    <tr>\n",
       "      <th>std</th>\n",
       "      <td>3488.737608</td>\n",
       "      <td>18.419439</td>\n",
       "      <td>3.113128</td>\n",
       "      <td>27.491111</td>\n",
       "      <td>1.702487e+07</td>\n",
       "      <td>2.125594e+04</td>\n",
       "      <td>1.093351</td>\n",
       "    </tr>\n",
       "    <tr>\n",
       "      <th>min</th>\n",
       "      <td>0.000000</td>\n",
       "      <td>1.000000</td>\n",
       "      <td>1.000000</td>\n",
       "      <td>1.000000</td>\n",
       "      <td>3.300000e-02</td>\n",
       "      <td>9.545455e-07</td>\n",
       "      <td>0.000000</td>\n",
       "    </tr>\n",
       "    <tr>\n",
       "      <th>25%</th>\n",
       "      <td>56.000000</td>\n",
       "      <td>3.000000</td>\n",
       "      <td>3.000000</td>\n",
       "      <td>4.500000</td>\n",
       "      <td>2.300000e+04</td>\n",
       "      <td>3.897059e+02</td>\n",
       "      <td>0.000000</td>\n",
       "    </tr>\n",
       "    <tr>\n",
       "      <th>50%</th>\n",
       "      <td>100.000000</td>\n",
       "      <td>5.000000</td>\n",
       "      <td>5.000000</td>\n",
       "      <td>6.050000</td>\n",
       "      <td>4.550000e+04</td>\n",
       "      <td>5.573770e+02</td>\n",
       "      <td>0.000000</td>\n",
       "    </tr>\n",
       "    <tr>\n",
       "      <th>75%</th>\n",
       "      <td>195.000000</td>\n",
       "      <td>10.000000</td>\n",
       "      <td>7.000000</td>\n",
       "      <td>9.075000</td>\n",
       "      <td>1.300000e+05</td>\n",
       "      <td>7.500000e+02</td>\n",
       "      <td>0.000000</td>\n",
       "    </tr>\n",
       "    <tr>\n",
       "      <th>max</th>\n",
       "      <td>180000.000000</td>\n",
       "      <td>201.000000</td>\n",
       "      <td>26.000000</td>\n",
       "      <td>836.000000</td>\n",
       "      <td>7.890000e+08</td>\n",
       "      <td>7.890000e+05</td>\n",
       "      <td>6.000000</td>\n",
       "    </tr>\n",
       "  </tbody>\n",
       "</table>\n",
       "</div>"
      ],
      "text/plain": [
       "           dien_tich    phong_ngu      so_tang    mat_tien           gia  \\\n",
       "count    2726.000000  1394.000000  1924.000000  988.000000  2.589000e+03   \n",
       "mean      249.464710    11.684362     5.546258    9.033370  6.285638e+05   \n",
       "std      3488.737608    18.419439     3.113128   27.491111  1.702487e+07   \n",
       "min         0.000000     1.000000     1.000000    1.000000  3.300000e-02   \n",
       "25%        56.000000     3.000000     3.000000    4.500000  2.300000e+04   \n",
       "50%       100.000000     5.000000     5.000000    6.050000  4.550000e+04   \n",
       "75%       195.000000    10.000000     7.000000    9.075000  1.300000e+05   \n",
       "max    180000.000000   201.000000    26.000000  836.000000  7.890000e+08   \n",
       "\n",
       "             gia_m2  do_rong_duong_ml  \n",
       "count  2.572000e+03       2767.000000  \n",
       "mean   1.369258e+03          0.223708  \n",
       "std    2.125594e+04          1.093351  \n",
       "min    9.545455e-07          0.000000  \n",
       "25%    3.897059e+02          0.000000  \n",
       "50%    5.573770e+02          0.000000  \n",
       "75%    7.500000e+02          0.000000  \n",
       "max    7.890000e+05          6.000000  "
      ]
     },
     "execution_count": 183,
     "metadata": {},
     "output_type": "execute_result"
    }
   ],
   "source": [
    "df_hk.describe()"
   ]
  },
  {
   "cell_type": "markdown",
   "id": "8729b1cc",
   "metadata": {},
   "source": [
    "# Điền giá trị khuyết thiếu So_Tang"
   ]
  },
  {
   "cell_type": "code",
   "execution_count": 184,
   "id": "c9cdf91d",
   "metadata": {
    "scrolled": false
   },
   "outputs": [
    {
     "data": {
      "text/plain": [
       "<AxesSubplot: xlabel='so_tang', ylabel='dien_tich'>"
      ]
     },
     "execution_count": 184,
     "metadata": {},
     "output_type": "execute_result"
    },
    {
     "data": {
      "image/png": "[encoded data removed]",
      "text/plain": [
       "<Figure size 640x480 with 1 Axes>"
      ]
     },
     "metadata": {},
     "output_type": "display_data"
    }
   ],
   "source": [
    "#Kiểm tra mối tương quan giữa diện tích và số tầng\n",
    "sns.lineplot(x='so_tang', y='dien_tich', data=df_hk)\n",
    "# Diện tích và số tầng có xu hướng tỷ lệ thuận với nhau"
   ]
  },
  {
   "cell_type": "code",
   "execution_count": 185,
   "id": "c4f2aa8d",
   "metadata": {
    "scrolled": true
   },
   "outputs": [
    {
     "data": {
      "text/plain": [
       "array([ 6.,  3.,  4.,  2.,  5.,  8., 10., nan, 12.,  1.,  7.,  9., 15.,\n",
       "       13., 11., 16., 14., 22., 26.])"
      ]
     },
     "execution_count": 185,
     "metadata": {},
     "output_type": "execute_result"
    }
   ],
   "source": [
    "df_hk['so_tang'].unique()"
   ]
  },
  {
   "cell_type": "code",
   "execution_count": 186,
   "id": "a9c42a73",
   "metadata": {},
   "outputs": [
    {
     "data": {
      "text/plain": [
       "dien_tich_phan\n",
       "(-0.001, 56.0]       4.566929\n",
       "(56.0, 100.0]        4.799615\n",
       "(100.0, 195.0]       5.984375\n",
       "(195.0, 180000.0]    7.102273\n",
       "Name: so_tang, dtype: float64"
      ]
     },
     "execution_count": 186,
     "metadata": {},
     "output_type": "execute_result"
    }
   ],
   "source": [
    "# Chia cột \"dien_tich\" thành 6 phần\n",
    "df_hk['dien_tich_phan'] = pd.qcut(df_hk['dien_tich'],q=4)\n",
    "\n",
    "# Tính trung bình diện tích mặt tiền của mỗi phần\n",
    "average_dien_tich_mat_tien = df_hk.groupby('dien_tich_phan')['so_tang'].mean()\n",
    "average_dien_tich_mat_tien"
   ]
  },
  {
   "cell_type": "code",
   "execution_count": 187,
   "id": "cc3f02db",
   "metadata": {},
   "outputs": [
    {
     "data": {
      "image/png": "[encoded data removed]",
      "text/plain": [
       "<Figure size 640x480 with 1 Axes>"
      ]
     },
     "metadata": {},
     "output_type": "display_data"
    }
   ],
   "source": [
    "# xem số lượng chia theo từng phần\n",
    "sns.countplot(x=df_hk['dien_tich_phan'])\n",
    "plt.show()"
   ]
  },
  {
   "cell_type": "code",
   "execution_count": 188,
   "id": "7707d8e5",
   "metadata": {},
   "outputs": [],
   "source": [
    "\"\"\"\n",
    "4 tầng: diện tích từ 0-45\n",
    "5 tầng: diện tích từ 45-100\n",
    "6 tầng: diện tích từ 100-151\n",
    "7 tầng: diện tích trên 151\n",
    "\"\"\"\n",
    "fill_so_tang = lambda row: row['so_tang'] if not pd.isna(row['so_tang'])\\\n",
    "else (4 if (row['dien_tich'] >= 0 and row['dien_tich'] <= 45)\\\n",
    "else (5 if (row['dien_tich'] > 45 and row['dien_tich'] <= 100)\\\n",
    "else (6 if (row['dien_tich'] > 100 and row['dien_tich'] <= 151)\\\n",
    "else (7 if (row['dien_tich'] > 151)\\\n",
    "else row['so_tang'])))) if not pd.isna(row['dien_tich']) else row['so_tang']"
   ]
  },
  {
   "cell_type": "code",
   "execution_count": 189,
   "id": "f986d2b5",
   "metadata": {},
   "outputs": [],
   "source": [
    "# Áp dụng hàm lambda vào DataFrame\n",
    "df_hk['so_tang'] = df_hk.apply(fill_so_tang, axis=1)"
   ]
  },
  {
   "cell_type": "code",
   "execution_count": 190,
   "id": "87a35d58",
   "metadata": {},
   "outputs": [
    {
     "data": {
      "text/plain": [
       "array([ 6.,  3.,  4.,  2.,  5.,  8., 10., 12.,  1.,  7.,  9., 15., 13.,\n",
       "       nan, 11., 16., 14., 22., 26.])"
      ]
     },
     "execution_count": 190,
     "metadata": {},
     "output_type": "execute_result"
    }
   ],
   "source": [
    "df_hk['so_tang'].unique()"
   ]
  },
  {
   "cell_type": "code",
   "execution_count": 191,
   "id": "60343011",
   "metadata": {
    "scrolled": true
   },
   "outputs": [
    {
     "name": "stdout",
     "output_type": "stream",
     "text": [
      "<class 'pandas.core.frame.DataFrame'>\n",
      "Int64Index: 2767 entries, 11402 to 14168\n",
      "Data columns (total 11 columns):\n",
      " #   Column            Non-Null Count  Dtype   \n",
      "---  ------            --------------  -----   \n",
      " 0   dien_tich         2726 non-null   float64 \n",
      " 1   phong_ngu         1394 non-null   float64 \n",
      " 2   so_tang           2735 non-null   float64 \n",
      " 3   mat_tien          988 non-null    float64 \n",
      " 4   so_do             2767 non-null   category\n",
      " 5   lat               2767 non-null   category\n",
      " 6   long              2767 non-null   category\n",
      " 7   gia               2589 non-null   float64 \n",
      " 8   gia_m2            2572 non-null   float64 \n",
      " 9   do_rong_duong_ml  2767 non-null   int64   \n",
      " 10  dien_tich_phan    2726 non-null   category\n",
      "dtypes: category(4), float64(6), int64(1)\n",
      "memory usage: 211.5 KB\n"
     ]
    }
   ],
   "source": [
    "df_hk.info()"
   ]
  },
  {
   "cell_type": "markdown",
   "id": "cd13585e",
   "metadata": {},
   "source": [
    "# Điền giá trị khuyết thiếu cột Phong_ngu"
   ]
  },
  {
   "cell_type": "code",
   "execution_count": 192,
   "id": "0dc7dbcd",
   "metadata": {
    "scrolled": false
   },
   "outputs": [
    {
     "data": {
      "text/plain": [
       "<AxesSubplot: xlabel='so_tang', ylabel='phong_ngu'>"
      ]
     },
     "execution_count": 192,
     "metadata": {},
     "output_type": "execute_result"
    },
    {
     "data": {
      "image/png": "[encoded data removed]",
      "text/plain": [
       "<Figure size 640x480 with 1 Axes>"
      ]
     },
     "metadata": {},
     "output_type": "display_data"
    }
   ],
   "source": [
    "#Kiểm tra mối tương quan giữa phòng ngủ và số tầng\n",
    "sns.lineplot(x='so_tang', y='phong_ngu', data=df_hk)"
   ]
  },
  {
   "cell_type": "code",
   "execution_count": 193,
   "id": "6d230b80",
   "metadata": {
    "scrolled": true
   },
   "outputs": [
    {
     "name": "stdout",
     "output_type": "stream",
     "text": [
      "1 Tầng có số phòng ngủ TB: 1 Phòng\n",
      "2 Tầng có số phòng ngủ TB: 3 Phòng\n",
      "3 Tầng có số phòng ngủ TB: 4 Phòng\n",
      "4 Tầng có số phòng ngủ TB: 4 Phòng\n",
      "5 Tầng có số phòng ngủ TB: 6 Phòng\n",
      "6 Tầng có số phòng ngủ TB: 10 Phòng\n",
      "7 Tầng có số phòng ngủ TB: 15 Phòng\n",
      "8 Tầng có số phòng ngủ TB: 19 Phòng\n",
      "9 Tầng có số phòng ngủ TB: 20 Phòng\n",
      "10 Tầng có số phòng ngủ TB: 30 Phòng\n",
      "11 Tầng có số phòng ngủ TB: 43 Phòng\n",
      "12 Tầng có số phòng ngủ TB: 47 Phòng\n",
      "13 Tầng có số phòng ngủ TB: 62 Phòng\n",
      "14 Tầng có số phòng ngủ TB: 73 Phòng\n",
      "15 Tầng có số phòng ngủ TB: 68 Phòng\n",
      "16 Tầng có số phòng ngủ TB: 88 Phòng\n",
      "22 Tầng có số phòng ngủ TB: 201 Phòng\n"
     ]
    }
   ],
   "source": [
    "# xem trung bình số tầng theo diện tích\n",
    "for i in range(1,27):\n",
    "    try:\n",
    "        df_hk_tang = df_hk[df_hk['so_tang']==i]\n",
    "        print(f\"{i} Tầng có số phòng ngủ TB: {round(df_hk_tang['phong_ngu'].mean())} Phòng\")\n",
    "    except ValueError:\n",
    "        pass"
   ]
  },
  {
   "cell_type": "code",
   "execution_count": 194,
   "id": "08bac45e",
   "metadata": {},
   "outputs": [],
   "source": [
    "#Điền số phòng ngủ dựa vào số tầng trung bình\n",
    "# Ánh xạ số phòng sang số tầng\n",
    "mapping = {1:1, 2:3, 3:4, 4:4, 5:6, 6:10, 7:15, 8:19, 9:20, 10:30, 11:43, 12:47, 13:62, 14:73, 15:68, 16:88, 22:201}\n",
    "\n",
    "# Điền dữ liệu khuyết thiếu cho cột 'Số phòng' dựa vào số tầng\n",
    "df_hk['phong_ngu'] = df_hk['phong_ngu'].fillna(df_hk['so_tang'].map(mapping))"
   ]
  },
  {
   "cell_type": "code",
   "execution_count": 195,
   "id": "1c37d33f",
   "metadata": {
    "scrolled": true
   },
   "outputs": [
    {
     "name": "stdout",
     "output_type": "stream",
     "text": [
      "<class 'pandas.core.frame.DataFrame'>\n",
      "Int64Index: 2767 entries, 11402 to 14168\n",
      "Data columns (total 11 columns):\n",
      " #   Column            Non-Null Count  Dtype   \n",
      "---  ------            --------------  -----   \n",
      " 0   dien_tich         2726 non-null   float64 \n",
      " 1   phong_ngu         2732 non-null   float64 \n",
      " 2   so_tang           2735 non-null   float64 \n",
      " 3   mat_tien          988 non-null    float64 \n",
      " 4   so_do             2767 non-null   category\n",
      " 5   lat               2767 non-null   category\n",
      " 6   long              2767 non-null   category\n",
      " 7   gia               2589 non-null   float64 \n",
      " 8   gia_m2            2572 non-null   float64 \n",
      " 9   do_rong_duong_ml  2767 non-null   int64   \n",
      " 10  dien_tich_phan    2726 non-null   category\n",
      "dtypes: category(4), float64(6), int64(1)\n",
      "memory usage: 211.5 KB\n"
     ]
    }
   ],
   "source": [
    "df_hk.info()"
   ]
  },
  {
   "cell_type": "markdown",
   "id": "01042fe6",
   "metadata": {},
   "source": [
    "# Điền giá trị khuyết thiếu mat_tien"
   ]
  },
  {
   "cell_type": "code",
   "execution_count": 196,
   "id": "3fdd2250",
   "metadata": {
    "scrolled": false
   },
   "outputs": [
    {
     "data": {
      "text/plain": [
       "<AxesSubplot: xlabel='dien_tich', ylabel='mat_tien'>"
      ]
     },
     "execution_count": 196,
     "metadata": {},
     "output_type": "execute_result"
    },
    {
     "data": {
      "image/png": "[encoded data removed]",
      "text/plain": [
       "<Figure size 640x480 with 1 Axes>"
      ]
     },
     "metadata": {},
     "output_type": "display_data"
    }
   ],
   "source": [
    "#Kiểm tra mối tương quan giữa diện tích và mặt tiền\n",
    "sns.lineplot(x='dien_tich', y='mat_tien', data=clean)"
   ]
  },
  {
   "cell_type": "code",
   "execution_count": 197,
   "id": "2082f46f",
   "metadata": {
    "scrolled": false
   },
   "outputs": [
    {
     "data": {
      "text/plain": [
       "dien_tich_phan\n",
       "(-0.001, 56.0]        4.942549\n",
       "(56.0, 100.0]         5.919094\n",
       "(100.0, 195.0]        7.764280\n",
       "(195.0, 180000.0]    16.649490\n",
       "Name: mat_tien, dtype: float64"
      ]
     },
     "execution_count": 197,
     "metadata": {},
     "output_type": "execute_result"
    }
   ],
   "source": [
    "# Chia cột \"dien_tich\" thành 4 phần\n",
    "df_hk['dien_tich_phan'] = pd.qcut(df_hk['dien_tich'], q=4)\n",
    "\n",
    "# Tính trung bình diện tích mặt tiền của mỗi phần\n",
    "average_dien_tich_mat_tien = df_hk.groupby('dien_tich_phan')['mat_tien'].mean()\n",
    "average_dien_tich_mat_tien"
   ]
  },
  {
   "cell_type": "code",
   "execution_count": 198,
   "id": "f4785440",
   "metadata": {
    "scrolled": false
   },
   "outputs": [
    {
     "data": {
      "image/png": "[encoded data removed]",
      "text/plain": [
       "<Figure size 640x480 with 1 Axes>"
      ]
     },
     "metadata": {},
     "output_type": "display_data"
    }
   ],
   "source": [
    "# xem số lượng chia theo từng phần\n",
    "sns.countplot(data = df_hk, x=pd.qcut(df_hk['dien_tich'], q=4), palette=\"Blues\")\n",
    "plt.show()"
   ]
  },
  {
   "cell_type": "code",
   "execution_count": 199,
   "id": "ea8b5267",
   "metadata": {},
   "outputs": [],
   "source": [
    "# Định nghĩa hàm lambda để điền giá trị khuyết thiếu của cột \"mat_tien\" dựa trên cột \"dien_tich\"\n",
    "fill_mat_tien = lambda row: row['mat_tien'] if not pd.isna(row['mat_tien'])\\\n",
    "else (4.9 if (row['dien_tich'] >= 0 and row['dien_tich'] <= 56)\\\n",
    "else (6.0 if (row['dien_tich'] > 56 and row['dien_tich'] <= 100)\\\n",
    "else (7.7 if (row['dien_tich'] > 100 and row['dien_tich'] <= 195)\\\n",
    "else (16.6 if (row['dien_tich'] > 195)\\\n",
    "else row['mat_tien'])))) if not pd.isna(row['dien_tich']) else row['mat_tien']"
   ]
  },
  {
   "cell_type": "code",
   "execution_count": 200,
   "id": "d27a28c6",
   "metadata": {},
   "outputs": [],
   "source": [
    "# Áp dụng hàm lambda vào DataFrame\n",
    "df_hk['mat_tien'] = df_hk.apply(fill_mat_tien, axis=1)"
   ]
  },
  {
   "cell_type": "code",
   "execution_count": 201,
   "id": "bc15cf40",
   "metadata": {
    "scrolled": true
   },
   "outputs": [
    {
     "name": "stdout",
     "output_type": "stream",
     "text": [
      "<class 'pandas.core.frame.DataFrame'>\n",
      "Int64Index: 2767 entries, 11402 to 14168\n",
      "Data columns (total 11 columns):\n",
      " #   Column            Non-Null Count  Dtype   \n",
      "---  ------            --------------  -----   \n",
      " 0   dien_tich         2726 non-null   float64 \n",
      " 1   phong_ngu         2732 non-null   float64 \n",
      " 2   so_tang           2735 non-null   float64 \n",
      " 3   mat_tien          2744 non-null   float64 \n",
      " 4   so_do             2767 non-null   category\n",
      " 5   lat               2767 non-null   category\n",
      " 6   long              2767 non-null   category\n",
      " 7   gia               2589 non-null   float64 \n",
      " 8   gia_m2            2572 non-null   float64 \n",
      " 9   do_rong_duong_ml  2767 non-null   int64   \n",
      " 10  dien_tich_phan    2726 non-null   category\n",
      "dtypes: category(4), float64(6), int64(1)\n",
      "memory usage: 211.5 KB\n"
     ]
    }
   ],
   "source": [
    "df_hk.info()"
   ]
  },
  {
   "cell_type": "code",
   "execution_count": 202,
   "id": "d19a4c4c",
   "metadata": {
    "scrolled": true
   },
   "outputs": [
    {
     "name": "stdout",
     "output_type": "stream",
     "text": [
      "<class 'pandas.core.frame.DataFrame'>\n",
      "Int64Index: 2553 entries, 11402 to 14168\n",
      "Data columns (total 11 columns):\n",
      " #   Column            Non-Null Count  Dtype   \n",
      "---  ------            --------------  -----   \n",
      " 0   dien_tich         2553 non-null   float64 \n",
      " 1   phong_ngu         2553 non-null   float64 \n",
      " 2   so_tang           2553 non-null   float64 \n",
      " 3   mat_tien          2553 non-null   float64 \n",
      " 4   so_do             2553 non-null   category\n",
      " 5   lat               2553 non-null   category\n",
      " 6   long              2553 non-null   category\n",
      " 7   gia               2553 non-null   float64 \n",
      " 8   gia_m2            2553 non-null   float64 \n",
      " 9   do_rong_duong_ml  2553 non-null   int64   \n",
      " 10  dien_tich_phan    2553 non-null   category\n",
      "dtypes: category(4), float64(6), int64(1)\n",
      "memory usage: 196.9 KB\n"
     ]
    }
   ],
   "source": [
    "# Xoá toàn bộ dữ liệu khuyết thiếu\n",
    "df_hk1 = df_hk.copy()\n",
    "df_hk1 = df_hk1.dropna()\n",
    "df_hk1.info()"
   ]
  },
  {
   "cell_type": "markdown",
   "id": "788c2ea4",
   "metadata": {},
   "source": [
    "# Xử lý dữ liệu ngoại lai"
   ]
  },
  {
   "cell_type": "code",
   "execution_count": 203,
   "id": "ff7bb80f",
   "metadata": {},
   "outputs": [
    {
     "data": {
      "text/html": [
       "<div>\n",
       "<style scoped>\n",
       "    .dataframe tbody tr th:only-of-type {\n",
       "        vertical-align: middle;\n",
       "    }\n",
       "\n",
       "    .dataframe tbody tr th {\n",
       "        vertical-align: top;\n",
       "    }\n",
       "\n",
       "    .dataframe thead th {\n",
       "        text-align: right;\n",
       "    }\n",
       "</style>\n",
       "<table border=\"1\" class=\"dataframe\">\n",
       "  <thead>\n",
       "    <tr style=\"text-align: right;\">\n",
       "      <th></th>\n",
       "      <th>dien_tich</th>\n",
       "      <th>phong_ngu</th>\n",
       "      <th>so_tang</th>\n",
       "      <th>mat_tien</th>\n",
       "      <th>gia</th>\n",
       "      <th>gia_m2</th>\n",
       "      <th>do_rong_duong_ml</th>\n",
       "    </tr>\n",
       "  </thead>\n",
       "  <tbody>\n",
       "    <tr>\n",
       "      <th>count</th>\n",
       "      <td>2553.000000</td>\n",
       "      <td>2553.000000</td>\n",
       "      <td>2553.000000</td>\n",
       "      <td>2553.000000</td>\n",
       "      <td>2.553000e+03</td>\n",
       "      <td>2.553000e+03</td>\n",
       "      <td>2553.000000</td>\n",
       "    </tr>\n",
       "    <tr>\n",
       "      <th>mean</th>\n",
       "      <td>178.289659</td>\n",
       "      <td>11.261261</td>\n",
       "      <td>5.511555</td>\n",
       "      <td>8.656353</td>\n",
       "      <td>6.339986e+05</td>\n",
       "      <td>1.371298e+03</td>\n",
       "      <td>0.242460</td>\n",
       "    </tr>\n",
       "    <tr>\n",
       "      <th>std</th>\n",
       "      <td>557.979235</td>\n",
       "      <td>15.039013</td>\n",
       "      <td>2.585975</td>\n",
       "      <td>17.385118</td>\n",
       "      <td>1.714423e+07</td>\n",
       "      <td>2.133412e+04</td>\n",
       "      <td>1.136271</td>\n",
       "    </tr>\n",
       "    <tr>\n",
       "      <th>min</th>\n",
       "      <td>5.000000</td>\n",
       "      <td>1.000000</td>\n",
       "      <td>1.000000</td>\n",
       "      <td>1.000000</td>\n",
       "      <td>3.300000e-02</td>\n",
       "      <td>9.545455e-07</td>\n",
       "      <td>0.000000</td>\n",
       "    </tr>\n",
       "    <tr>\n",
       "      <th>25%</th>\n",
       "      <td>55.000000</td>\n",
       "      <td>4.000000</td>\n",
       "      <td>4.000000</td>\n",
       "      <td>4.900000</td>\n",
       "      <td>2.300000e+04</td>\n",
       "      <td>3.897059e+02</td>\n",
       "      <td>0.000000</td>\n",
       "    </tr>\n",
       "    <tr>\n",
       "      <th>50%</th>\n",
       "      <td>98.000000</td>\n",
       "      <td>6.000000</td>\n",
       "      <td>5.000000</td>\n",
       "      <td>6.000000</td>\n",
       "      <td>4.550000e+04</td>\n",
       "      <td>5.573770e+02</td>\n",
       "      <td>0.000000</td>\n",
       "    </tr>\n",
       "    <tr>\n",
       "      <th>75%</th>\n",
       "      <td>188.000000</td>\n",
       "      <td>15.000000</td>\n",
       "      <td>7.000000</td>\n",
       "      <td>8.600000</td>\n",
       "      <td>1.300000e+05</td>\n",
       "      <td>7.500000e+02</td>\n",
       "      <td>0.000000</td>\n",
       "    </tr>\n",
       "    <tr>\n",
       "      <th>max</th>\n",
       "      <td>25000.000000</td>\n",
       "      <td>201.000000</td>\n",
       "      <td>22.000000</td>\n",
       "      <td>836.000000</td>\n",
       "      <td>7.890000e+08</td>\n",
       "      <td>7.890000e+05</td>\n",
       "      <td>6.000000</td>\n",
       "    </tr>\n",
       "  </tbody>\n",
       "</table>\n",
       "</div>"
      ],
      "text/plain": [
       "          dien_tich    phong_ngu      so_tang     mat_tien           gia  \\\n",
       "count   2553.000000  2553.000000  2553.000000  2553.000000  2.553000e+03   \n",
       "mean     178.289659    11.261261     5.511555     8.656353  6.339986e+05   \n",
       "std      557.979235    15.039013     2.585975    17.385118  1.714423e+07   \n",
       "min        5.000000     1.000000     1.000000     1.000000  3.300000e-02   \n",
       "25%       55.000000     4.000000     4.000000     4.900000  2.300000e+04   \n",
       "50%       98.000000     6.000000     5.000000     6.000000  4.550000e+04   \n",
       "75%      188.000000    15.000000     7.000000     8.600000  1.300000e+05   \n",
       "max    25000.000000   201.000000    22.000000   836.000000  7.890000e+08   \n",
       "\n",
       "             gia_m2  do_rong_duong_ml  \n",
       "count  2.553000e+03       2553.000000  \n",
       "mean   1.371298e+03          0.242460  \n",
       "std    2.133412e+04          1.136271  \n",
       "min    9.545455e-07          0.000000  \n",
       "25%    3.897059e+02          0.000000  \n",
       "50%    5.573770e+02          0.000000  \n",
       "75%    7.500000e+02          0.000000  \n",
       "max    7.890000e+05          6.000000  "
      ]
     },
     "execution_count": 203,
     "metadata": {},
     "output_type": "execute_result"
    }
   ],
   "source": [
    "df_hk1.describe()"
   ]
  },
  {
   "cell_type": "code",
   "execution_count": 204,
   "id": "3b1df49b",
   "metadata": {},
   "outputs": [],
   "source": [
    "# Hàm giá lọc giá trị ngoại lai\n",
    "def get_Q1_Q3(values):\n",
    "    values = np.array(values)\n",
    "    q1 = np.quantile(values, 0.25)\n",
    "    q3 = np.quantile(values, 0.75)\n",
    "    IQR = q3-q1 \n",
    "    _min_value = q1 -  1.5*IQR \n",
    "    _max_value = q3 +  1.5*IQR \n",
    "\n",
    "    return _min_value, _max_value"
   ]
  },
  {
   "cell_type": "code",
   "execution_count": 205,
   "id": "6b382aa1",
   "metadata": {},
   "outputs": [],
   "source": [
    "# Xử lý ngoại lai\n",
    "min_price, max_price = get_Q1_Q3(df_hk1[\"phong_ngu\"])\n",
    "\n",
    "min_price, max_price = get_Q1_Q3(df_hk1[\"so_tang\"])\n",
    "\n",
    "min_mat_tien, max_mat_tien = get_Q1_Q3(df_hk1[\"mat_tien\"])\n",
    "\n",
    "min_price, max_price = get_Q1_Q3(df_hk1[\"gia_m2\"])\n",
    "\n",
    "min_dt, max_dt = get_Q1_Q3(df_hk1[\"dien_tich\"])\n",
    "# target = target[target[\"gia_m2\"]>=min_price & target[\"gia_m2\"]<= max_price]\n",
    "\n",
    "\n",
    "logic = ((df_hk1[\"phong_ngu\"]>=min_price) & (df_hk1[\"phong_ngu\"]<= max_price) & \\\n",
    "         (df_hk1[\"so_tang\"]>=min_price) & (df_hk1[\"so_tang\"]<= max_price) & \\\n",
    "         (df_hk1[\"mat_tien\"]>=min_price) & (df_hk1[\"mat_tien\"]<= max_price) & \\\n",
    "         (df_hk1[\"gia_m2\"]>=min_price) & (df_hk1[\"gia_m2\"]<= max_price) & \\\n",
    "         (df_hk1[\"dien_tich\"]>=min_dt) & (df_hk1[\"dien_tich\"]<= max_dt))\n",
    "\n",
    "clean = df_hk1[logic]"
   ]
  },
  {
   "cell_type": "code",
   "execution_count": 206,
   "id": "4594ce67",
   "metadata": {},
   "outputs": [],
   "source": [
    "clean = clean[['dien_tich', 'phong_ngu', 'so_tang', 'mat_tien', 'so_do', 'lat', 'long',\n",
    "       'gia', 'gia_m2', 'do_rong_duong_ml']]"
   ]
  },
  {
   "cell_type": "code",
   "execution_count": 207,
   "id": "364127d7",
   "metadata": {
    "scrolled": false
   },
   "outputs": [
    {
     "name": "stdout",
     "output_type": "stream",
     "text": [
      "<class 'pandas.core.frame.DataFrame'>\n",
      "Int64Index: 2262 entries, 11402 to 14168\n",
      "Data columns (total 10 columns):\n",
      " #   Column            Non-Null Count  Dtype   \n",
      "---  ------            --------------  -----   \n",
      " 0   dien_tich         2262 non-null   float64 \n",
      " 1   phong_ngu         2262 non-null   float64 \n",
      " 2   so_tang           2262 non-null   float64 \n",
      " 3   mat_tien          2262 non-null   float64 \n",
      " 4   so_do             2262 non-null   category\n",
      " 5   lat               2262 non-null   category\n",
      " 6   long              2262 non-null   category\n",
      " 7   gia               2262 non-null   float64 \n",
      " 8   gia_m2            2262 non-null   float64 \n",
      " 9   do_rong_duong_ml  2262 non-null   int64   \n",
      "dtypes: category(3), float64(6), int64(1)\n",
      "memory usage: 174.6 KB\n"
     ]
    }
   ],
   "source": [
    "clean.info()"
   ]
  },
  {
   "cell_type": "markdown",
   "id": "ac96b8a9",
   "metadata": {},
   "source": [
    "# Vẽ biểu đồ xem gia_m2 với các cột khác"
   ]
  },
  {
   "cell_type": "code",
   "execution_count": 208,
   "id": "d8bfe5fa",
   "metadata": {
    "scrolled": true
   },
   "outputs": [
    {
     "data": {
      "image/png": "[encoded data removed]",
      "text/plain": [
       "<Figure size 1300x400 with 8 Axes>"
      ]
     },
     "metadata": {},
     "output_type": "display_data"
    }
   ],
   "source": [
    "cols = ['dien_tich', 'phong_ngu', 'so_tang', 'mat_tien', 'so_do', 'lat', 'long', 'do_rong_duong_ml']\n",
    "n_rows = 2\n",
    "n_cols = 4\n",
    "fig, ax = plt.subplots(n_rows, n_cols, figsize = (n_rows*6.5, n_cols*1))\n",
    "for r in range(0,n_rows):\n",
    "    for c in range(0,n_cols):\n",
    "        i = r * n_cols + c # index để lặp tới các cột\n",
    "        if i<len(cols):\n",
    "            ax_i = ax[r,c]\n",
    "            sns.lineplot(x=cols[i], y='gia_m2', data=clean, ax=ax_i)\n",
    "            ax_i.set_title(f'{cols[i]} vs gia_m2')\n",
    "            plt.ylabel('Giá/m2')"
   ]
  },
  {
   "cell_type": "code",
   "execution_count": 209,
   "id": "e072cf3a",
   "metadata": {},
   "outputs": [
    {
     "data": {
      "image/png": "[encoded data removed]",
      "text/plain": [
       "<Figure size 1300x400 with 8 Axes>"
      ]
     },
     "metadata": {},
     "output_type": "display_data"
    }
   ],
   "source": [
    "cols = ['dien_tich', 'phong_ngu', 'so_tang', 'mat_tien', 'do_rong_duong_ml']\n",
    "n_rows = 2\n",
    "n_cols = 4\n",
    "fig, ax = plt.subplots(n_rows, n_cols, figsize = (n_rows*6.5, n_cols*1))\n",
    "for r in range(0,n_rows):\n",
    "    for c in range(0,n_cols):\n",
    "        i = r * n_cols + c # index để lặp tới các cột\n",
    "        if i<len(cols):\n",
    "            ax_i = ax[r,c]\n",
    "            sns.histplot(data=clean,x=cols[i],bins=15,kde=True, ax=ax_i)\n",
    "            ax_i.set_title(f'{cols[i]}')"
   ]
  },
  {
   "cell_type": "markdown",
   "id": "79c75406",
   "metadata": {},
   "source": [
    "# Nomalize dữ liệu"
   ]
  },
  {
   "cell_type": "code",
   "execution_count": 226,
   "id": "768fffb8",
   "metadata": {},
   "outputs": [
    {
     "data": {
      "text/plain": [
       "Index(['dien_tich', 'phong_ngu', 'so_tang', 'mat_tien', 'so_do', 'lat', 'long',\n",
       "       'gia', 'gia_m2', 'do_rong_duong_ml'],\n",
       "      dtype='object')"
      ]
     },
     "execution_count": 226,
     "metadata": {},
     "output_type": "execute_result"
    }
   ],
   "source": [
    "clean.columns"
   ]
  },
  {
   "cell_type": "code",
   "execution_count": 210,
   "id": "e82e4cc4",
   "metadata": {},
   "outputs": [],
   "source": [
    "# Cột mong muốn để normalize\n",
    "columns_to_normalize = ['dien_tich', 'phong_ngu', 'so_tang', 'mat_tien','gia', 'gia_m2', 'do_rong_duong_ml']\n",
    "\n",
    "# Khởi tạo MinMaxScaler\n",
    "scaler = MinMaxScaler()\n",
    "\n",
    "# Normalize các cột mong muốn\n",
    "data_normalized = clean.copy()\n",
    "data_normalized[columns_to_normalize] = scaler.fit_transform(clean[columns_to_normalize])"
   ]
  },
  {
   "cell_type": "markdown",
   "id": "91437a3c",
   "metadata": {},
   "source": [
    "# Mô hình hoá dữ liệu"
   ]
  },
  {
   "cell_type": "code",
   "execution_count": 211,
   "id": "815485ed",
   "metadata": {},
   "outputs": [],
   "source": [
    "# Models\n",
    "from sklearn.linear_model import LinearRegression\n",
    "from sklearn.linear_model import LogisticRegression\n",
    "from sklearn.neighbors import KNeighborsClassifier\n",
    "from sklearn.ensemble import RandomForestClassifier\n",
    "from sklearn.ensemble import AdaBoostClassifier\n",
    "from sklearn.tree import DecisionTreeClassifier, ExtraTreeClassifier\n",
    "from sklearn.model_selection import StratifiedKFold\n",
    "from sklearn.model_selection import cross_val_score\n",
    "from xgboost import XGBClassifier\n",
    "from sklearn.metrics import accuracy_score, f1_score, precision_score, recall_score, classification_report, confusion_matrix"
   ]
  },
  {
   "cell_type": "markdown",
   "id": "62372b94",
   "metadata": {},
   "source": [
    "# Sử dụng LinerRegression với data clean"
   ]
  },
  {
   "cell_type": "code",
   "execution_count": 212,
   "id": "14d00f66",
   "metadata": {
    "scrolled": true
   },
   "outputs": [],
   "source": [
    "# # split data clean\n",
    "X = clean[['dien_tich', 'phong_ngu', 'so_tang', 'mat_tien', 'so_do', 'lat', 'long','do_rong_duong_ml']]\n",
    "y = clean[\"gia_m2\"]\n",
    "X_train, X_test, y_train, y_test = train_test_split(X, y, test_size=0.3, random_state=42)"
   ]
  },
  {
   "cell_type": "code",
   "execution_count": 213,
   "id": "e8652db9",
   "metadata": {
    "scrolled": false
   },
   "outputs": [
    {
     "data": {
      "text/html": [
       "<style>#sk-container-id-10 {color: black;background-color: white;}#sk-container-id-10 pre{padding: 0;}#sk-container-id-10 div.sk-toggleable {background-color: white;}#sk-container-id-10 label.sk-toggleable__label {cursor: pointer;display: block;width: 100%;margin-bottom: 0;padding: 0.3em;box-sizing: border-box;text-align: center;}#sk-container-id-10 label.sk-toggleable__label-arrow:before {content: \"▸\";float: left;margin-right: 0.25em;color: #696969;}#sk-container-id-10 label.sk-toggleable__label-arrow:hover:before {color: black;}#sk-container-id-10 div.sk-estimator:hover label.sk-toggleable__label-arrow:before {color: black;}#sk-container-id-10 div.sk-toggleable__content {max-height: 0;max-width: 0;overflow: hidden;text-align: left;background-color: #f0f8ff;}#sk-container-id-10 div.sk-toggleable__content pre {margin: 0.2em;color: black;border-radius: 0.25em;background-color: #f0f8ff;}#sk-container-id-10 input.sk-toggleable__control:checked~div.sk-toggleable__content {max-height: 200px;max-width: 100%;overflow: auto;}#sk-container-id-10 input.sk-toggleable__control:checked~label.sk-toggleable__label-arrow:before {content: \"▾\";}#sk-container-id-10 div.sk-estimator input.sk-toggleable__control:checked~label.sk-toggleable__label {background-color: #d4ebff;}#sk-container-id-10 div.sk-label input.sk-toggleable__control:checked~label.sk-toggleable__label {background-color: #d4ebff;}#sk-container-id-10 input.sk-hidden--visually {border: 0;clip: rect(1px 1px 1px 1px);clip: rect(1px, 1px, 1px, 1px);height: 1px;margin: -1px;overflow: hidden;padding: 0;position: absolute;width: 1px;}#sk-container-id-10 div.sk-estimator {font-family: monospace;background-color: #f0f8ff;border: 1px dotted black;border-radius: 0.25em;box-sizing: border-box;margin-bottom: 0.5em;}#sk-container-id-10 div.sk-estimator:hover {background-color: #d4ebff;}#sk-container-id-10 div.sk-parallel-item::after {content: \"\";width: 100%;border-bottom: 1px solid gray;flex-grow: 1;}#sk-container-id-10 div.sk-label:hover label.sk-toggleable__label {background-color: #d4ebff;}#sk-container-id-10 div.sk-serial::before {content: \"\";position: absolute;border-left: 1px solid gray;box-sizing: border-box;top: 0;bottom: 0;left: 50%;z-index: 0;}#sk-container-id-10 div.sk-serial {display: flex;flex-direction: column;align-items: center;background-color: white;padding-right: 0.2em;padding-left: 0.2em;position: relative;}#sk-container-id-10 div.sk-item {position: relative;z-index: 1;}#sk-container-id-10 div.sk-parallel {display: flex;align-items: stretch;justify-content: center;background-color: white;position: relative;}#sk-container-id-10 div.sk-item::before, #sk-container-id-10 div.sk-parallel-item::before {content: \"\";position: absolute;border-left: 1px solid gray;box-sizing: border-box;top: 0;bottom: 0;left: 50%;z-index: -1;}#sk-container-id-10 div.sk-parallel-item {display: flex;flex-direction: column;z-index: 1;position: relative;background-color: white;}#sk-container-id-10 div.sk-parallel-item:first-child::after {align-self: flex-end;width: 50%;}#sk-container-id-10 div.sk-parallel-item:last-child::after {align-self: flex-start;width: 50%;}#sk-container-id-10 div.sk-parallel-item:only-child::after {width: 0;}#sk-container-id-10 div.sk-dashed-wrapped {border: 1px dashed gray;margin: 0 0.4em 0.5em 0.4em;box-sizing: border-box;padding-bottom: 0.4em;background-color: white;}#sk-container-id-10 div.sk-label label {font-family: monospace;font-weight: bold;display: inline-block;line-height: 1.2em;}#sk-container-id-10 div.sk-label-container {text-align: center;}#sk-container-id-10 div.sk-container {/* jupyter's `normalize.less` sets `[hidden] { display: none; }` but bootstrap.min.css set `[hidden] { display: none !important; }` so we also need the `!important` here to be able to override the default hidden behavior on the sphinx rendered scikit-learn.org. See: https://github.com/scikit-learn/scikit-learn/issues/21755 */display: inline-block !important;position: relative;}#sk-container-id-10 div.sk-text-repr-fallback {display: none;}</style><div id=\"sk-container-id-10\" class=\"sk-top-container\"><div class=\"sk-text-repr-fallback\"><pre>LinearRegression()</pre><b>In a Jupyter environment, please rerun this cell to show the HTML representation or trust the notebook. <br />On GitHub, the HTML representation is unable to render, please try loading this page with nbviewer.org.</b></div><div class=\"sk-container\" hidden><div class=\"sk-item\"><div class=\"sk-estimator sk-toggleable\"><input class=\"sk-toggleable__control sk-hidden--visually\" id=\"sk-estimator-id-10\" type=\"checkbox\" checked><label for=\"sk-estimator-id-10\" class=\"sk-toggleable__label sk-toggleable__label-arrow\">LinearRegression</label><div class=\"sk-toggleable__content\"><pre>LinearRegression()</pre></div></div></div></div></div>"
      ],
      "text/plain": [
       "LinearRegression()"
      ]
     },
     "execution_count": 213,
     "metadata": {},
     "output_type": "execute_result"
    }
   ],
   "source": [
    "#Fit mô hình\n",
    "from sklearn.linear_model import LogisticRegression\n",
    "model_reg = linear_model.LinearRegression()\n",
    "model_reg.fit(X_train, y_train)"
   ]
  },
  {
   "cell_type": "code",
   "execution_count": 214,
   "id": "bda40ec6",
   "metadata": {},
   "outputs": [
    {
     "name": "stdout",
     "output_type": "stream",
     "text": [
      "187.73713664922553\n",
      "0.35476469418707923\n"
     ]
    }
   ],
   "source": [
    "y_pred = model_reg.predict(X_test)\n",
    "mse = mean_absolute_error(y_pred, y_test)\n",
    "mape = mean_absolute_percentage_error(y_pred, y_test)\n",
    "print(mse)\n",
    "print(mape)"
   ]
  },
  {
   "cell_type": "markdown",
   "id": "731b1737",
   "metadata": {},
   "source": [
    "# Sử dụng LinerRegression với data Nomalize"
   ]
  },
  {
   "cell_type": "code",
   "execution_count": 215,
   "id": "a52d0748",
   "metadata": {},
   "outputs": [],
   "source": [
    "# split data df_s\n",
    "X_s = data_normalized[['dien_tich', 'phong_ngu', 'so_tang', 'mat_tien', 'so_do', 'lat', 'long','do_rong_duong_ml']]\n",
    "y_s = data_normalized[\"gia_m2\"]\n",
    "X_s_train, X_s_test, y_s_train, y_s_test = train_test_split(X_s, y_s, test_size=0.3, random_state=42)"
   ]
  },
  {
   "cell_type": "code",
   "execution_count": 216,
   "id": "29aa5184",
   "metadata": {},
   "outputs": [
    {
     "data": {
      "text/html": [
       "<style>#sk-container-id-11 {color: black;background-color: white;}#sk-container-id-11 pre{padding: 0;}#sk-container-id-11 div.sk-toggleable {background-color: white;}#sk-container-id-11 label.sk-toggleable__label {cursor: pointer;display: block;width: 100%;margin-bottom: 0;padding: 0.3em;box-sizing: border-box;text-align: center;}#sk-container-id-11 label.sk-toggleable__label-arrow:before {content: \"▸\";float: left;margin-right: 0.25em;color: #696969;}#sk-container-id-11 label.sk-toggleable__label-arrow:hover:before {color: black;}#sk-container-id-11 div.sk-estimator:hover label.sk-toggleable__label-arrow:before {color: black;}#sk-container-id-11 div.sk-toggleable__content {max-height: 0;max-width: 0;overflow: hidden;text-align: left;background-color: #f0f8ff;}#sk-container-id-11 div.sk-toggleable__content pre {margin: 0.2em;color: black;border-radius: 0.25em;background-color: #f0f8ff;}#sk-container-id-11 input.sk-toggleable__control:checked~div.sk-toggleable__content {max-height: 200px;max-width: 100%;overflow: auto;}#sk-container-id-11 input.sk-toggleable__control:checked~label.sk-toggleable__label-arrow:before {content: \"▾\";}#sk-container-id-11 div.sk-estimator input.sk-toggleable__control:checked~label.sk-toggleable__label {background-color: #d4ebff;}#sk-container-id-11 div.sk-label input.sk-toggleable__control:checked~label.sk-toggleable__label {background-color: #d4ebff;}#sk-container-id-11 input.sk-hidden--visually {border: 0;clip: rect(1px 1px 1px 1px);clip: rect(1px, 1px, 1px, 1px);height: 1px;margin: -1px;overflow: hidden;padding: 0;position: absolute;width: 1px;}#sk-container-id-11 div.sk-estimator {font-family: monospace;background-color: #f0f8ff;border: 1px dotted black;border-radius: 0.25em;box-sizing: border-box;margin-bottom: 0.5em;}#sk-container-id-11 div.sk-estimator:hover {background-color: #d4ebff;}#sk-container-id-11 div.sk-parallel-item::after {content: \"\";width: 100%;border-bottom: 1px solid gray;flex-grow: 1;}#sk-container-id-11 div.sk-label:hover label.sk-toggleable__label {background-color: #d4ebff;}#sk-container-id-11 div.sk-serial::before {content: \"\";position: absolute;border-left: 1px solid gray;box-sizing: border-box;top: 0;bottom: 0;left: 50%;z-index: 0;}#sk-container-id-11 div.sk-serial {display: flex;flex-direction: column;align-items: center;background-color: white;padding-right: 0.2em;padding-left: 0.2em;position: relative;}#sk-container-id-11 div.sk-item {position: relative;z-index: 1;}#sk-container-id-11 div.sk-parallel {display: flex;align-items: stretch;justify-content: center;background-color: white;position: relative;}#sk-container-id-11 div.sk-item::before, #sk-container-id-11 div.sk-parallel-item::before {content: \"\";position: absolute;border-left: 1px solid gray;box-sizing: border-box;top: 0;bottom: 0;left: 50%;z-index: -1;}#sk-container-id-11 div.sk-parallel-item {display: flex;flex-direction: column;z-index: 1;position: relative;background-color: white;}#sk-container-id-11 div.sk-parallel-item:first-child::after {align-self: flex-end;width: 50%;}#sk-container-id-11 div.sk-parallel-item:last-child::after {align-self: flex-start;width: 50%;}#sk-container-id-11 div.sk-parallel-item:only-child::after {width: 0;}#sk-container-id-11 div.sk-dashed-wrapped {border: 1px dashed gray;margin: 0 0.4em 0.5em 0.4em;box-sizing: border-box;padding-bottom: 0.4em;background-color: white;}#sk-container-id-11 div.sk-label label {font-family: monospace;font-weight: bold;display: inline-block;line-height: 1.2em;}#sk-container-id-11 div.sk-label-container {text-align: center;}#sk-container-id-11 div.sk-container {/* jupyter's `normalize.less` sets `[hidden] { display: none; }` but bootstrap.min.css set `[hidden] { display: none !important; }` so we also need the `!important` here to be able to override the default hidden behavior on the sphinx rendered scikit-learn.org. See: https://github.com/scikit-learn/scikit-learn/issues/21755 */display: inline-block !important;position: relative;}#sk-container-id-11 div.sk-text-repr-fallback {display: none;}</style><div id=\"sk-container-id-11\" class=\"sk-top-container\"><div class=\"sk-text-repr-fallback\"><pre>LinearRegression()</pre><b>In a Jupyter environment, please rerun this cell to show the HTML representation or trust the notebook. <br />On GitHub, the HTML representation is unable to render, please try loading this page with nbviewer.org.</b></div><div class=\"sk-container\" hidden><div class=\"sk-item\"><div class=\"sk-estimator sk-toggleable\"><input class=\"sk-toggleable__control sk-hidden--visually\" id=\"sk-estimator-id-11\" type=\"checkbox\" checked><label for=\"sk-estimator-id-11\" class=\"sk-toggleable__label sk-toggleable__label-arrow\">LinearRegression</label><div class=\"sk-toggleable__content\"><pre>LinearRegression()</pre></div></div></div></div></div>"
      ],
      "text/plain": [
       "LinearRegression()"
      ]
     },
     "execution_count": 216,
     "metadata": {},
     "output_type": "execute_result"
    }
   ],
   "source": [
    "#Fit mô hình\n",
    "model_s_reg = linear_model.LinearRegression()\n",
    "model_s_reg.fit(X_s_train, y_s_train)"
   ]
  },
  {
   "cell_type": "code",
   "execution_count": 217,
   "id": "73c0158f",
   "metadata": {},
   "outputs": [
    {
     "name": "stdout",
     "output_type": "stream",
     "text": [
      "352.20000980714735\n",
      "0.9988049201783873\n"
     ]
    }
   ],
   "source": [
    "y_s_pred = model_reg.predict(X_s_test)\n",
    "mse_s = mean_absolute_error(y_s_pred, y_s_test)\n",
    "mape_s = mean_absolute_percentage_error(y_s_pred, y_s_test)\n",
    "print(mse_s)\n",
    "print(mape_s)"
   ]
  },
  {
   "cell_type": "markdown",
   "id": "3f94a03b",
   "metadata": {},
   "source": [
    "# Sử dụng RandomForest với data Clean"
   ]
  },
  {
   "cell_type": "code",
   "execution_count": 218,
   "id": "986b0c57",
   "metadata": {},
   "outputs": [],
   "source": [
    "# split data clean\n",
    "X_rf = clean[['dien_tich', 'phong_ngu', 'so_tang', 'mat_tien', 'so_do', 'lat', 'long','do_rong_duong_ml']]\n",
    "y_rf = clean[\"gia_m2\"]\n",
    "X_rf_train, X_rf_test, y_rf_train, y_rf_test = train_test_split(X_rf, y_rf, test_size=0.3, random_state=42)"
   ]
  },
  {
   "cell_type": "code",
   "execution_count": 219,
   "id": "6d0b6645",
   "metadata": {},
   "outputs": [
    {
     "data": {
      "text/html": [
       "<style>#sk-container-id-12 {color: black;background-color: white;}#sk-container-id-12 pre{padding: 0;}#sk-container-id-12 div.sk-toggleable {background-color: white;}#sk-container-id-12 label.sk-toggleable__label {cursor: pointer;display: block;width: 100%;margin-bottom: 0;padding: 0.3em;box-sizing: border-box;text-align: center;}#sk-container-id-12 label.sk-toggleable__label-arrow:before {content: \"▸\";float: left;margin-right: 0.25em;color: #696969;}#sk-container-id-12 label.sk-toggleable__label-arrow:hover:before {color: black;}#sk-container-id-12 div.sk-estimator:hover label.sk-toggleable__label-arrow:before {color: black;}#sk-container-id-12 div.sk-toggleable__content {max-height: 0;max-width: 0;overflow: hidden;text-align: left;background-color: #f0f8ff;}#sk-container-id-12 div.sk-toggleable__content pre {margin: 0.2em;color: black;border-radius: 0.25em;background-color: #f0f8ff;}#sk-container-id-12 input.sk-toggleable__control:checked~div.sk-toggleable__content {max-height: 200px;max-width: 100%;overflow: auto;}#sk-container-id-12 input.sk-toggleable__control:checked~label.sk-toggleable__label-arrow:before {content: \"▾\";}#sk-container-id-12 div.sk-estimator input.sk-toggleable__control:checked~label.sk-toggleable__label {background-color: #d4ebff;}#sk-container-id-12 div.sk-label input.sk-toggleable__control:checked~label.sk-toggleable__label {background-color: #d4ebff;}#sk-container-id-12 input.sk-hidden--visually {border: 0;clip: rect(1px 1px 1px 1px);clip: rect(1px, 1px, 1px, 1px);height: 1px;margin: -1px;overflow: hidden;padding: 0;position: absolute;width: 1px;}#sk-container-id-12 div.sk-estimator {font-family: monospace;background-color: #f0f8ff;border: 1px dotted black;border-radius: 0.25em;box-sizing: border-box;margin-bottom: 0.5em;}#sk-container-id-12 div.sk-estimator:hover {background-color: #d4ebff;}#sk-container-id-12 div.sk-parallel-item::after {content: \"\";width: 100%;border-bottom: 1px solid gray;flex-grow: 1;}#sk-container-id-12 div.sk-label:hover label.sk-toggleable__label {background-color: #d4ebff;}#sk-container-id-12 div.sk-serial::before {content: \"\";position: absolute;border-left: 1px solid gray;box-sizing: border-box;top: 0;bottom: 0;left: 50%;z-index: 0;}#sk-container-id-12 div.sk-serial {display: flex;flex-direction: column;align-items: center;background-color: white;padding-right: 0.2em;padding-left: 0.2em;position: relative;}#sk-container-id-12 div.sk-item {position: relative;z-index: 1;}#sk-container-id-12 div.sk-parallel {display: flex;align-items: stretch;justify-content: center;background-color: white;position: relative;}#sk-container-id-12 div.sk-item::before, #sk-container-id-12 div.sk-parallel-item::before {content: \"\";position: absolute;border-left: 1px solid gray;box-sizing: border-box;top: 0;bottom: 0;left: 50%;z-index: -1;}#sk-container-id-12 div.sk-parallel-item {display: flex;flex-direction: column;z-index: 1;position: relative;background-color: white;}#sk-container-id-12 div.sk-parallel-item:first-child::after {align-self: flex-end;width: 50%;}#sk-container-id-12 div.sk-parallel-item:last-child::after {align-self: flex-start;width: 50%;}#sk-container-id-12 div.sk-parallel-item:only-child::after {width: 0;}#sk-container-id-12 div.sk-dashed-wrapped {border: 1px dashed gray;margin: 0 0.4em 0.5em 0.4em;box-sizing: border-box;padding-bottom: 0.4em;background-color: white;}#sk-container-id-12 div.sk-label label {font-family: monospace;font-weight: bold;display: inline-block;line-height: 1.2em;}#sk-container-id-12 div.sk-label-container {text-align: center;}#sk-container-id-12 div.sk-container {/* jupyter's `normalize.less` sets `[hidden] { display: none; }` but bootstrap.min.css set `[hidden] { display: none !important; }` so we also need the `!important` here to be able to override the default hidden behavior on the sphinx rendered scikit-learn.org. See: https://github.com/scikit-learn/scikit-learn/issues/21755 */display: inline-block !important;position: relative;}#sk-container-id-12 div.sk-text-repr-fallback {display: none;}</style><div id=\"sk-container-id-12\" class=\"sk-top-container\"><div class=\"sk-text-repr-fallback\"><pre>RandomForestRegressor(random_state=0)</pre><b>In a Jupyter environment, please rerun this cell to show the HTML representation or trust the notebook. <br />On GitHub, the HTML representation is unable to render, please try loading this page with nbviewer.org.</b></div><div class=\"sk-container\" hidden><div class=\"sk-item\"><div class=\"sk-estimator sk-toggleable\"><input class=\"sk-toggleable__control sk-hidden--visually\" id=\"sk-estimator-id-12\" type=\"checkbox\" checked><label for=\"sk-estimator-id-12\" class=\"sk-toggleable__label sk-toggleable__label-arrow\">RandomForestRegressor</label><div class=\"sk-toggleable__content\"><pre>RandomForestRegressor(random_state=0)</pre></div></div></div></div></div>"
      ],
      "text/plain": [
       "RandomForestRegressor(random_state=0)"
      ]
     },
     "execution_count": 219,
     "metadata": {},
     "output_type": "execute_result"
    }
   ],
   "source": [
    "#Fit mô hình\n",
    "from sklearn.ensemble import RandomForestRegressor\n",
    "from sklearn.tree import DecisionTreeRegressor\n",
    "from sklearn.tree import ExtraTreeRegressor\n",
    "model_rf_reg = RandomForestRegressor(random_state=0)\n",
    "model_rf_reg.fit(X_rf_train, y_rf_train)"
   ]
  },
  {
   "cell_type": "code",
   "execution_count": 220,
   "id": "5b238756",
   "metadata": {},
   "outputs": [
    {
     "name": "stdout",
     "output_type": "stream",
     "text": [
      "187.73713664922553\n",
      "0.35476469418707923\n"
     ]
    }
   ],
   "source": [
    "y_rf_pred = model_reg.predict(X_rf_test)\n",
    "mse_rf = mean_absolute_error(y_rf_pred, y_rf_test)\n",
    "mape_rf = mean_absolute_percentage_error(y_rf_pred, y_rf_test)\n",
    "print(mse_rf)\n",
    "print(mape_rf)"
   ]
  },
  {
   "cell_type": "code",
   "execution_count": 221,
   "id": "017b70e8",
   "metadata": {},
   "outputs": [
    {
     "data": {
      "text/plain": [
       "0.5251543001879377"
      ]
     },
     "execution_count": 221,
     "metadata": {},
     "output_type": "execute_result"
    }
   ],
   "source": [
    "model_rf_reg.score(X_rf_test, y_rf_test)"
   ]
  }
 ],
 "metadata": {
  "kernelspec": {
   "display_name": "Python 3 (ipykernel)",
   "language": "python",
   "name": "python3"
  },
  "language_info": {
   "codemirror_mode": {
    "name": "ipython",
    "version": 3
   },
   "file_extension": ".py",
   "mimetype": "text/x-python",
   "name": "python",
   "nbconvert_exporter": "python",
   "pygments_lexer": "ipython3",
   "version": "3.10.6"
  },
  "varInspector": {
   "cols": {
    "lenName": 16,
    "lenType": 16,
    "lenVar": 40
   },
   "kernels_config": {
    "python": {
     "delete_cmd_postfix": "",
     "delete_cmd_prefix": "del ",
     "library": "var_list.py",
     "varRefreshCmd": "print(var_dic_list())"
    },
    "r": {
     "delete_cmd_postfix": ") ",
     "delete_cmd_prefix": "rm(",
     "library": "var_list.r",
     "varRefreshCmd": "cat(var_dic_list()) "
    }
   },
   "types_to_exclude": [
    "module",
    "function",
    "builtin_function_or_method",
    "instance",
    "_Feature"
   ],
   "window_display": false
  }
 },
 "nbformat": 4,
 "nbformat_minor": 5
}
